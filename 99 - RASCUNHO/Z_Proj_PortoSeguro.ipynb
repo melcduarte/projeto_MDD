{
  "nbformat": 4,
  "nbformat_minor": 0,
  "metadata": {
    "colab": {
      "name": "Cópia de Z_Proj_PortoSeguro_v02.ipynb",
      "provenance": [],
      "collapsed_sections": [
        "np8KJ33p7AMX",
        "5XALr0hJ7PWM"
      ]
    },
    "kernelspec": {
      "name": "python3",
      "display_name": "Python 3"
    },
    "language_info": {
      "name": "python"
    }
  },
  "cells": [
    {
      "cell_type": "markdown",
      "metadata": {
        "id": "XUxUJqKmk35D"
      },
      "source": [
        "#INCLUSÃO DAS BIBLIOTECAS QUE SERÃO NECESSÁRIAS NO DECORRER DO CÓDIGO\n",
        "\n",
        "\n",
        "1.   Pandas: inclusão dos dados em um dataframe\n",
        "2.   Numpy: biblioteca númerica para *comparações*\n",
        "3.   Matplotlib: inclusão da biblioteca *pyplot* para geração de gráficos\n",
        "4.   Seaborn: biblioteca de geração de visualização de dados\n",
        "5.   Sklearn: somente biblioteca de Matriz de Contingência\n",
        "\n"
      ]
    },
    {
      "cell_type": "code",
      "metadata": {
        "id": "waL_5c-yw6yh"
      },
      "source": [
        "#!pip install sweetviz"
      ],
      "execution_count": null,
      "outputs": []
    },
    {
      "cell_type": "code",
      "metadata": {
        "id": "oKFLdcHhRmzt"
      },
      "source": [
        "import pandas as pd\n",
        "import numpy as np\n",
        "import seaborn as sns\n",
        "import matplotlib.pyplot as plt\n",
        "from sklearn.metrics import confusion_matrix\n",
        "#import sweetviz as xx\n"
      ],
      "execution_count": null,
      "outputs": []
    },
    {
      "cell_type": "markdown",
      "metadata": {
        "id": "RXTTsM55lqhK"
      },
      "source": [
        "#CARGA DOS ARQUIVOS DE TREINO\n",
        "\n",
        "- Devido ao tamanho original do arquivo foi necessário particioná-lo em 2 para que o Github aceitasse os arquivos e pudessemos fazer uma leitura direta dele no local de armazenamento, independente do programa gerar de código usado."
      ]
    },
    {
      "cell_type": "code",
      "metadata": {
        "id": "Gn23ECeyQGhY",
        "colab": {
          "base_uri": "https://localhost:8080/"
        },
        "outputId": "cbcecd6c-131a-4ed8-9206-3659dd562deb"
      },
      "source": [
        "# Parte 1 do arquivo\n",
        "url = 'https://raw.githubusercontent.com/danilosrm/projeto_MDD/main/00%20-%20FONTES/01%20-%20TRAIN/train_01.csv'\n",
        "  \n",
        "df_train = pd.read_csv(url, error_bad_lines=False, delimiter=';')\n",
        "print('Quantidade registro da primeira parte: ', df_train['id'].count())\n",
        "\n",
        "# Parte 2 do arquivo \n",
        "url = 'https://raw.githubusercontent.com/danilosrm/projeto_MDD/main/00%20-%20FONTES/01%20-%20TRAIN/train_02.csv'  \n",
        "  \n",
        "df2_train = pd.read_csv(url, error_bad_lines=False, delimiter=';')\n",
        "print('Quantidade registro da segunda parte: ', df2_train['id'].count())\n",
        "\n",
        "# Junção das partes  \n",
        "df_train = df_train.append(df2_train)\n",
        "print('Quantidade total registros: ', df_train['id'].count())\n"
      ],
      "execution_count": null,
      "outputs": [
        {
          "output_type": "stream",
          "name": "stdout",
          "text": [
            "Quantidade registro da primeira parte:  297605\n",
            "Quantidade registro da segunda parte:  297607\n",
            "Quantidade total registros:  595212\n"
          ]
        }
      ]
    },
    {
      "cell_type": "code",
      "metadata": {
        "id": "orCGYXOcVoOK",
        "outputId": "c37eef77-8132-488e-984d-ea2915acee40",
        "colab": {
          "base_uri": "https://localhost:8080/"
        }
      },
      "source": [
        "# Analise inicial dos dados carregados, verificando se todos os campos possuem \n",
        "# a mesma quantidade de registro. \n",
        "# Já sabe-se que os campos nulos foram tratados com o valor \"-1\"\n",
        "\n",
        "df_train.info(0)"
      ],
      "execution_count": null,
      "outputs": [
        {
          "output_type": "stream",
          "name": "stdout",
          "text": [
            "<class 'pandas.core.frame.DataFrame'>\n",
            "Int64Index: 595212 entries, 0 to 297606\n",
            "Data columns (total 59 columns):\n",
            " #   Column          Non-Null Count   Dtype  \n",
            "---  ------          --------------   -----  \n",
            " 0   id              595212 non-null  int64  \n",
            " 1   target          595212 non-null  int64  \n",
            " 2   ps_ind_01       595212 non-null  int64  \n",
            " 3   ps_ind_02_cat   595212 non-null  int64  \n",
            " 4   ps_ind_03       595212 non-null  int64  \n",
            " 5   ps_ind_04_cat   595212 non-null  int64  \n",
            " 6   ps_ind_05_cat   595212 non-null  int64  \n",
            " 7   ps_ind_06_bin   595212 non-null  int64  \n",
            " 8   ps_ind_07_bin   595212 non-null  int64  \n",
            " 9   ps_ind_08_bin   595212 non-null  int64  \n",
            " 10  ps_ind_09_bin   595212 non-null  int64  \n",
            " 11  ps_ind_10_bin   595212 non-null  int64  \n",
            " 12  ps_ind_11_bin   595212 non-null  int64  \n",
            " 13  ps_ind_12_bin   595212 non-null  int64  \n",
            " 14  ps_ind_13_bin   595212 non-null  int64  \n",
            " 15  ps_ind_14       595212 non-null  int64  \n",
            " 16  ps_ind_15       595212 non-null  int64  \n",
            " 17  ps_ind_16_bin   595212 non-null  int64  \n",
            " 18  ps_ind_17_bin   595212 non-null  int64  \n",
            " 19  ps_ind_18_bin   595212 non-null  int64  \n",
            " 20  ps_reg_01       595212 non-null  float64\n",
            " 21  ps_reg_02       595212 non-null  float64\n",
            " 22  ps_reg_03       595212 non-null  float64\n",
            " 23  ps_car_01_cat   595212 non-null  int64  \n",
            " 24  ps_car_02_cat   595212 non-null  int64  \n",
            " 25  ps_car_03_cat   595212 non-null  int64  \n",
            " 26  ps_car_04_cat   595212 non-null  int64  \n",
            " 27  ps_car_05_cat   595212 non-null  int64  \n",
            " 28  ps_car_06_cat   595212 non-null  int64  \n",
            " 29  ps_car_07_cat   595212 non-null  int64  \n",
            " 30  ps_car_08_cat   595212 non-null  int64  \n",
            " 31  ps_car_09_cat   595212 non-null  int64  \n",
            " 32  ps_car_10_cat   595212 non-null  int64  \n",
            " 33  ps_car_11_cat   595212 non-null  int64  \n",
            " 34  ps_car_11       595212 non-null  int64  \n",
            " 35  ps_car_12       595212 non-null  float64\n",
            " 36  ps_car_13       595212 non-null  float64\n",
            " 37  ps_car_14       595212 non-null  float64\n",
            " 38  ps_car_15       595212 non-null  float64\n",
            " 39  ps_calc_01      595212 non-null  float64\n",
            " 40  ps_calc_02      595212 non-null  float64\n",
            " 41  ps_calc_03      595212 non-null  float64\n",
            " 42  ps_calc_04      595212 non-null  int64  \n",
            " 43  ps_calc_05      595212 non-null  int64  \n",
            " 44  ps_calc_06      595212 non-null  int64  \n",
            " 45  ps_calc_07      595212 non-null  int64  \n",
            " 46  ps_calc_08      595212 non-null  int64  \n",
            " 47  ps_calc_09      595212 non-null  int64  \n",
            " 48  ps_calc_10      595212 non-null  int64  \n",
            " 49  ps_calc_11      595212 non-null  int64  \n",
            " 50  ps_calc_12      595212 non-null  int64  \n",
            " 51  ps_calc_13      595212 non-null  int64  \n",
            " 52  ps_calc_14      595212 non-null  int64  \n",
            " 53  ps_calc_15_bin  595212 non-null  int64  \n",
            " 54  ps_calc_16_bin  595212 non-null  int64  \n",
            " 55  ps_calc_17_bin  595212 non-null  int64  \n",
            " 56  ps_calc_18_bin  595212 non-null  int64  \n",
            " 57  ps_calc_19_bin  595212 non-null  int64  \n",
            " 58  ps_calc_20_bin  595212 non-null  int64  \n",
            "dtypes: float64(10), int64(49)\n",
            "memory usage: 272.5 MB\n"
          ]
        }
      ]
    },
    {
      "cell_type": "code",
      "metadata": {
        "id": "XdmpRFUeVRFG",
        "outputId": "da55a732-bd5a-45b6-a8cd-fa12c1a6f2dd",
        "colab": {
          "base_uri": "https://localhost:8080/",
          "height": 1000
        }
      },
      "source": [
        "# Demonstração dos 5 primeiras linhas de registros de forma Transversal\n",
        "\n",
        "df_train.head(5).T"
      ],
      "execution_count": null,
      "outputs": [
        {
          "output_type": "execute_result",
          "data": {
            "text/html": [
              "<div>\n",
              "<style scoped>\n",
              "    .dataframe tbody tr th:only-of-type {\n",
              "        vertical-align: middle;\n",
              "    }\n",
              "\n",
              "    .dataframe tbody tr th {\n",
              "        vertical-align: top;\n",
              "    }\n",
              "\n",
              "    .dataframe thead th {\n",
              "        text-align: right;\n",
              "    }\n",
              "</style>\n",
              "<table border=\"1\" class=\"dataframe\">\n",
              "  <thead>\n",
              "    <tr style=\"text-align: right;\">\n",
              "      <th></th>\n",
              "      <th>0</th>\n",
              "      <th>1</th>\n",
              "      <th>2</th>\n",
              "      <th>3</th>\n",
              "      <th>4</th>\n",
              "    </tr>\n",
              "  </thead>\n",
              "  <tbody>\n",
              "    <tr>\n",
              "      <th>id</th>\n",
              "      <td>7.000000</td>\n",
              "      <td>9.000000</td>\n",
              "      <td>13.000000</td>\n",
              "      <td>16.000000</td>\n",
              "      <td>17.000000</td>\n",
              "    </tr>\n",
              "    <tr>\n",
              "      <th>target</th>\n",
              "      <td>0.000000</td>\n",
              "      <td>0.000000</td>\n",
              "      <td>0.000000</td>\n",
              "      <td>0.000000</td>\n",
              "      <td>0.000000</td>\n",
              "    </tr>\n",
              "    <tr>\n",
              "      <th>ps_ind_01</th>\n",
              "      <td>2.000000</td>\n",
              "      <td>1.000000</td>\n",
              "      <td>5.000000</td>\n",
              "      <td>0.000000</td>\n",
              "      <td>0.000000</td>\n",
              "    </tr>\n",
              "    <tr>\n",
              "      <th>ps_ind_02_cat</th>\n",
              "      <td>2.000000</td>\n",
              "      <td>1.000000</td>\n",
              "      <td>4.000000</td>\n",
              "      <td>1.000000</td>\n",
              "      <td>2.000000</td>\n",
              "    </tr>\n",
              "    <tr>\n",
              "      <th>ps_ind_03</th>\n",
              "      <td>5.000000</td>\n",
              "      <td>7.000000</td>\n",
              "      <td>9.000000</td>\n",
              "      <td>2.000000</td>\n",
              "      <td>0.000000</td>\n",
              "    </tr>\n",
              "    <tr>\n",
              "      <th>ps_ind_04_cat</th>\n",
              "      <td>1.000000</td>\n",
              "      <td>0.000000</td>\n",
              "      <td>1.000000</td>\n",
              "      <td>0.000000</td>\n",
              "      <td>1.000000</td>\n",
              "    </tr>\n",
              "    <tr>\n",
              "      <th>ps_ind_05_cat</th>\n",
              "      <td>0.000000</td>\n",
              "      <td>0.000000</td>\n",
              "      <td>0.000000</td>\n",
              "      <td>0.000000</td>\n",
              "      <td>0.000000</td>\n",
              "    </tr>\n",
              "    <tr>\n",
              "      <th>ps_ind_06_bin</th>\n",
              "      <td>0.000000</td>\n",
              "      <td>0.000000</td>\n",
              "      <td>0.000000</td>\n",
              "      <td>1.000000</td>\n",
              "      <td>1.000000</td>\n",
              "    </tr>\n",
              "    <tr>\n",
              "      <th>ps_ind_07_bin</th>\n",
              "      <td>1.000000</td>\n",
              "      <td>0.000000</td>\n",
              "      <td>0.000000</td>\n",
              "      <td>0.000000</td>\n",
              "      <td>0.000000</td>\n",
              "    </tr>\n",
              "    <tr>\n",
              "      <th>ps_ind_08_bin</th>\n",
              "      <td>0.000000</td>\n",
              "      <td>1.000000</td>\n",
              "      <td>1.000000</td>\n",
              "      <td>0.000000</td>\n",
              "      <td>0.000000</td>\n",
              "    </tr>\n",
              "    <tr>\n",
              "      <th>ps_ind_09_bin</th>\n",
              "      <td>0.000000</td>\n",
              "      <td>0.000000</td>\n",
              "      <td>0.000000</td>\n",
              "      <td>0.000000</td>\n",
              "      <td>0.000000</td>\n",
              "    </tr>\n",
              "    <tr>\n",
              "      <th>ps_ind_10_bin</th>\n",
              "      <td>0.000000</td>\n",
              "      <td>0.000000</td>\n",
              "      <td>0.000000</td>\n",
              "      <td>0.000000</td>\n",
              "      <td>0.000000</td>\n",
              "    </tr>\n",
              "    <tr>\n",
              "      <th>ps_ind_11_bin</th>\n",
              "      <td>0.000000</td>\n",
              "      <td>0.000000</td>\n",
              "      <td>0.000000</td>\n",
              "      <td>0.000000</td>\n",
              "      <td>0.000000</td>\n",
              "    </tr>\n",
              "    <tr>\n",
              "      <th>ps_ind_12_bin</th>\n",
              "      <td>0.000000</td>\n",
              "      <td>0.000000</td>\n",
              "      <td>0.000000</td>\n",
              "      <td>0.000000</td>\n",
              "      <td>0.000000</td>\n",
              "    </tr>\n",
              "    <tr>\n",
              "      <th>ps_ind_13_bin</th>\n",
              "      <td>0.000000</td>\n",
              "      <td>0.000000</td>\n",
              "      <td>0.000000</td>\n",
              "      <td>0.000000</td>\n",
              "      <td>0.000000</td>\n",
              "    </tr>\n",
              "    <tr>\n",
              "      <th>ps_ind_14</th>\n",
              "      <td>0.000000</td>\n",
              "      <td>0.000000</td>\n",
              "      <td>0.000000</td>\n",
              "      <td>0.000000</td>\n",
              "      <td>0.000000</td>\n",
              "    </tr>\n",
              "    <tr>\n",
              "      <th>ps_ind_15</th>\n",
              "      <td>11.000000</td>\n",
              "      <td>3.000000</td>\n",
              "      <td>12.000000</td>\n",
              "      <td>8.000000</td>\n",
              "      <td>9.000000</td>\n",
              "    </tr>\n",
              "    <tr>\n",
              "      <th>ps_ind_16_bin</th>\n",
              "      <td>0.000000</td>\n",
              "      <td>0.000000</td>\n",
              "      <td>1.000000</td>\n",
              "      <td>1.000000</td>\n",
              "      <td>1.000000</td>\n",
              "    </tr>\n",
              "    <tr>\n",
              "      <th>ps_ind_17_bin</th>\n",
              "      <td>1.000000</td>\n",
              "      <td>0.000000</td>\n",
              "      <td>0.000000</td>\n",
              "      <td>0.000000</td>\n",
              "      <td>0.000000</td>\n",
              "    </tr>\n",
              "    <tr>\n",
              "      <th>ps_ind_18_bin</th>\n",
              "      <td>0.000000</td>\n",
              "      <td>1.000000</td>\n",
              "      <td>0.000000</td>\n",
              "      <td>0.000000</td>\n",
              "      <td>0.000000</td>\n",
              "    </tr>\n",
              "    <tr>\n",
              "      <th>ps_reg_01</th>\n",
              "      <td>0.700000</td>\n",
              "      <td>0.800000</td>\n",
              "      <td>0.000000</td>\n",
              "      <td>0.900000</td>\n",
              "      <td>0.700000</td>\n",
              "    </tr>\n",
              "    <tr>\n",
              "      <th>ps_reg_02</th>\n",
              "      <td>0.200000</td>\n",
              "      <td>0.400000</td>\n",
              "      <td>0.000000</td>\n",
              "      <td>0.200000</td>\n",
              "      <td>0.600000</td>\n",
              "    </tr>\n",
              "    <tr>\n",
              "      <th>ps_reg_03</th>\n",
              "      <td>0.718070</td>\n",
              "      <td>0.766078</td>\n",
              "      <td>-1.000000</td>\n",
              "      <td>0.580948</td>\n",
              "      <td>0.840759</td>\n",
              "    </tr>\n",
              "    <tr>\n",
              "      <th>ps_car_01_cat</th>\n",
              "      <td>10.000000</td>\n",
              "      <td>11.000000</td>\n",
              "      <td>7.000000</td>\n",
              "      <td>7.000000</td>\n",
              "      <td>11.000000</td>\n",
              "    </tr>\n",
              "    <tr>\n",
              "      <th>ps_car_02_cat</th>\n",
              "      <td>1.000000</td>\n",
              "      <td>1.000000</td>\n",
              "      <td>1.000000</td>\n",
              "      <td>1.000000</td>\n",
              "      <td>1.000000</td>\n",
              "    </tr>\n",
              "    <tr>\n",
              "      <th>ps_car_03_cat</th>\n",
              "      <td>-1.000000</td>\n",
              "      <td>-1.000000</td>\n",
              "      <td>-1.000000</td>\n",
              "      <td>0.000000</td>\n",
              "      <td>-1.000000</td>\n",
              "    </tr>\n",
              "    <tr>\n",
              "      <th>ps_car_04_cat</th>\n",
              "      <td>0.000000</td>\n",
              "      <td>0.000000</td>\n",
              "      <td>0.000000</td>\n",
              "      <td>0.000000</td>\n",
              "      <td>0.000000</td>\n",
              "    </tr>\n",
              "    <tr>\n",
              "      <th>ps_car_05_cat</th>\n",
              "      <td>1.000000</td>\n",
              "      <td>-1.000000</td>\n",
              "      <td>-1.000000</td>\n",
              "      <td>1.000000</td>\n",
              "      <td>-1.000000</td>\n",
              "    </tr>\n",
              "    <tr>\n",
              "      <th>ps_car_06_cat</th>\n",
              "      <td>4.000000</td>\n",
              "      <td>11.000000</td>\n",
              "      <td>14.000000</td>\n",
              "      <td>11.000000</td>\n",
              "      <td>14.000000</td>\n",
              "    </tr>\n",
              "    <tr>\n",
              "      <th>ps_car_07_cat</th>\n",
              "      <td>1.000000</td>\n",
              "      <td>1.000000</td>\n",
              "      <td>1.000000</td>\n",
              "      <td>1.000000</td>\n",
              "      <td>1.000000</td>\n",
              "    </tr>\n",
              "    <tr>\n",
              "      <th>ps_car_08_cat</th>\n",
              "      <td>0.000000</td>\n",
              "      <td>1.000000</td>\n",
              "      <td>1.000000</td>\n",
              "      <td>1.000000</td>\n",
              "      <td>1.000000</td>\n",
              "    </tr>\n",
              "    <tr>\n",
              "      <th>ps_car_09_cat</th>\n",
              "      <td>0.000000</td>\n",
              "      <td>2.000000</td>\n",
              "      <td>2.000000</td>\n",
              "      <td>3.000000</td>\n",
              "      <td>2.000000</td>\n",
              "    </tr>\n",
              "    <tr>\n",
              "      <th>ps_car_10_cat</th>\n",
              "      <td>1.000000</td>\n",
              "      <td>1.000000</td>\n",
              "      <td>1.000000</td>\n",
              "      <td>1.000000</td>\n",
              "      <td>1.000000</td>\n",
              "    </tr>\n",
              "    <tr>\n",
              "      <th>ps_car_11_cat</th>\n",
              "      <td>12.000000</td>\n",
              "      <td>19.000000</td>\n",
              "      <td>60.000000</td>\n",
              "      <td>104.000000</td>\n",
              "      <td>82.000000</td>\n",
              "    </tr>\n",
              "    <tr>\n",
              "      <th>ps_car_11</th>\n",
              "      <td>2.000000</td>\n",
              "      <td>3.000000</td>\n",
              "      <td>1.000000</td>\n",
              "      <td>1.000000</td>\n",
              "      <td>3.000000</td>\n",
              "    </tr>\n",
              "    <tr>\n",
              "      <th>ps_car_12</th>\n",
              "      <td>0.400000</td>\n",
              "      <td>0.316228</td>\n",
              "      <td>0.316228</td>\n",
              "      <td>0.374166</td>\n",
              "      <td>0.316070</td>\n",
              "    </tr>\n",
              "    <tr>\n",
              "      <th>ps_car_13</th>\n",
              "      <td>0.883679</td>\n",
              "      <td>0.618817</td>\n",
              "      <td>0.641586</td>\n",
              "      <td>0.542949</td>\n",
              "      <td>0.565832</td>\n",
              "    </tr>\n",
              "    <tr>\n",
              "      <th>ps_car_14</th>\n",
              "      <td>0.370810</td>\n",
              "      <td>0.388716</td>\n",
              "      <td>0.347275</td>\n",
              "      <td>0.294958</td>\n",
              "      <td>0.365103</td>\n",
              "    </tr>\n",
              "    <tr>\n",
              "      <th>ps_car_15</th>\n",
              "      <td>3.605551</td>\n",
              "      <td>2.449490</td>\n",
              "      <td>3.316625</td>\n",
              "      <td>2.000000</td>\n",
              "      <td>2.000000</td>\n",
              "    </tr>\n",
              "    <tr>\n",
              "      <th>ps_calc_01</th>\n",
              "      <td>0.600000</td>\n",
              "      <td>0.300000</td>\n",
              "      <td>0.500000</td>\n",
              "      <td>0.600000</td>\n",
              "      <td>0.400000</td>\n",
              "    </tr>\n",
              "    <tr>\n",
              "      <th>ps_calc_02</th>\n",
              "      <td>0.500000</td>\n",
              "      <td>0.100000</td>\n",
              "      <td>0.700000</td>\n",
              "      <td>0.900000</td>\n",
              "      <td>0.600000</td>\n",
              "    </tr>\n",
              "    <tr>\n",
              "      <th>ps_calc_03</th>\n",
              "      <td>0.200000</td>\n",
              "      <td>0.300000</td>\n",
              "      <td>0.100000</td>\n",
              "      <td>0.100000</td>\n",
              "      <td>0.000000</td>\n",
              "    </tr>\n",
              "    <tr>\n",
              "      <th>ps_calc_04</th>\n",
              "      <td>3.000000</td>\n",
              "      <td>2.000000</td>\n",
              "      <td>2.000000</td>\n",
              "      <td>2.000000</td>\n",
              "      <td>2.000000</td>\n",
              "    </tr>\n",
              "    <tr>\n",
              "      <th>ps_calc_05</th>\n",
              "      <td>1.000000</td>\n",
              "      <td>1.000000</td>\n",
              "      <td>2.000000</td>\n",
              "      <td>4.000000</td>\n",
              "      <td>2.000000</td>\n",
              "    </tr>\n",
              "    <tr>\n",
              "      <th>ps_calc_06</th>\n",
              "      <td>10.000000</td>\n",
              "      <td>9.000000</td>\n",
              "      <td>9.000000</td>\n",
              "      <td>7.000000</td>\n",
              "      <td>6.000000</td>\n",
              "    </tr>\n",
              "    <tr>\n",
              "      <th>ps_calc_07</th>\n",
              "      <td>1.000000</td>\n",
              "      <td>5.000000</td>\n",
              "      <td>1.000000</td>\n",
              "      <td>1.000000</td>\n",
              "      <td>3.000000</td>\n",
              "    </tr>\n",
              "    <tr>\n",
              "      <th>ps_calc_08</th>\n",
              "      <td>10.000000</td>\n",
              "      <td>8.000000</td>\n",
              "      <td>8.000000</td>\n",
              "      <td>8.000000</td>\n",
              "      <td>10.000000</td>\n",
              "    </tr>\n",
              "    <tr>\n",
              "      <th>ps_calc_09</th>\n",
              "      <td>1.000000</td>\n",
              "      <td>1.000000</td>\n",
              "      <td>2.000000</td>\n",
              "      <td>4.000000</td>\n",
              "      <td>2.000000</td>\n",
              "    </tr>\n",
              "    <tr>\n",
              "      <th>ps_calc_10</th>\n",
              "      <td>5.000000</td>\n",
              "      <td>7.000000</td>\n",
              "      <td>7.000000</td>\n",
              "      <td>2.000000</td>\n",
              "      <td>12.000000</td>\n",
              "    </tr>\n",
              "    <tr>\n",
              "      <th>ps_calc_11</th>\n",
              "      <td>9.000000</td>\n",
              "      <td>3.000000</td>\n",
              "      <td>4.000000</td>\n",
              "      <td>2.000000</td>\n",
              "      <td>3.000000</td>\n",
              "    </tr>\n",
              "    <tr>\n",
              "      <th>ps_calc_12</th>\n",
              "      <td>1.000000</td>\n",
              "      <td>1.000000</td>\n",
              "      <td>2.000000</td>\n",
              "      <td>2.000000</td>\n",
              "      <td>1.000000</td>\n",
              "    </tr>\n",
              "    <tr>\n",
              "      <th>ps_calc_13</th>\n",
              "      <td>5.000000</td>\n",
              "      <td>1.000000</td>\n",
              "      <td>7.000000</td>\n",
              "      <td>4.000000</td>\n",
              "      <td>1.000000</td>\n",
              "    </tr>\n",
              "    <tr>\n",
              "      <th>ps_calc_14</th>\n",
              "      <td>8.000000</td>\n",
              "      <td>9.000000</td>\n",
              "      <td>7.000000</td>\n",
              "      <td>9.000000</td>\n",
              "      <td>3.000000</td>\n",
              "    </tr>\n",
              "    <tr>\n",
              "      <th>ps_calc_15_bin</th>\n",
              "      <td>0.000000</td>\n",
              "      <td>0.000000</td>\n",
              "      <td>0.000000</td>\n",
              "      <td>0.000000</td>\n",
              "      <td>0.000000</td>\n",
              "    </tr>\n",
              "    <tr>\n",
              "      <th>ps_calc_16_bin</th>\n",
              "      <td>1.000000</td>\n",
              "      <td>1.000000</td>\n",
              "      <td>1.000000</td>\n",
              "      <td>0.000000</td>\n",
              "      <td>0.000000</td>\n",
              "    </tr>\n",
              "    <tr>\n",
              "      <th>ps_calc_17_bin</th>\n",
              "      <td>1.000000</td>\n",
              "      <td>1.000000</td>\n",
              "      <td>1.000000</td>\n",
              "      <td>0.000000</td>\n",
              "      <td>0.000000</td>\n",
              "    </tr>\n",
              "    <tr>\n",
              "      <th>ps_calc_18_bin</th>\n",
              "      <td>0.000000</td>\n",
              "      <td>0.000000</td>\n",
              "      <td>0.000000</td>\n",
              "      <td>0.000000</td>\n",
              "      <td>1.000000</td>\n",
              "    </tr>\n",
              "    <tr>\n",
              "      <th>ps_calc_19_bin</th>\n",
              "      <td>0.000000</td>\n",
              "      <td>1.000000</td>\n",
              "      <td>1.000000</td>\n",
              "      <td>0.000000</td>\n",
              "      <td>1.000000</td>\n",
              "    </tr>\n",
              "    <tr>\n",
              "      <th>ps_calc_20_bin</th>\n",
              "      <td>1.000000</td>\n",
              "      <td>0.000000</td>\n",
              "      <td>0.000000</td>\n",
              "      <td>0.000000</td>\n",
              "      <td>0.000000</td>\n",
              "    </tr>\n",
              "  </tbody>\n",
              "</table>\n",
              "</div>"
            ],
            "text/plain": [
              "                        0          1          2           3          4\n",
              "id               7.000000   9.000000  13.000000   16.000000  17.000000\n",
              "target           0.000000   0.000000   0.000000    0.000000   0.000000\n",
              "ps_ind_01        2.000000   1.000000   5.000000    0.000000   0.000000\n",
              "ps_ind_02_cat    2.000000   1.000000   4.000000    1.000000   2.000000\n",
              "ps_ind_03        5.000000   7.000000   9.000000    2.000000   0.000000\n",
              "ps_ind_04_cat    1.000000   0.000000   1.000000    0.000000   1.000000\n",
              "ps_ind_05_cat    0.000000   0.000000   0.000000    0.000000   0.000000\n",
              "ps_ind_06_bin    0.000000   0.000000   0.000000    1.000000   1.000000\n",
              "ps_ind_07_bin    1.000000   0.000000   0.000000    0.000000   0.000000\n",
              "ps_ind_08_bin    0.000000   1.000000   1.000000    0.000000   0.000000\n",
              "ps_ind_09_bin    0.000000   0.000000   0.000000    0.000000   0.000000\n",
              "ps_ind_10_bin    0.000000   0.000000   0.000000    0.000000   0.000000\n",
              "ps_ind_11_bin    0.000000   0.000000   0.000000    0.000000   0.000000\n",
              "ps_ind_12_bin    0.000000   0.000000   0.000000    0.000000   0.000000\n",
              "ps_ind_13_bin    0.000000   0.000000   0.000000    0.000000   0.000000\n",
              "ps_ind_14        0.000000   0.000000   0.000000    0.000000   0.000000\n",
              "ps_ind_15       11.000000   3.000000  12.000000    8.000000   9.000000\n",
              "ps_ind_16_bin    0.000000   0.000000   1.000000    1.000000   1.000000\n",
              "ps_ind_17_bin    1.000000   0.000000   0.000000    0.000000   0.000000\n",
              "ps_ind_18_bin    0.000000   1.000000   0.000000    0.000000   0.000000\n",
              "ps_reg_01        0.700000   0.800000   0.000000    0.900000   0.700000\n",
              "ps_reg_02        0.200000   0.400000   0.000000    0.200000   0.600000\n",
              "ps_reg_03        0.718070   0.766078  -1.000000    0.580948   0.840759\n",
              "ps_car_01_cat   10.000000  11.000000   7.000000    7.000000  11.000000\n",
              "ps_car_02_cat    1.000000   1.000000   1.000000    1.000000   1.000000\n",
              "ps_car_03_cat   -1.000000  -1.000000  -1.000000    0.000000  -1.000000\n",
              "ps_car_04_cat    0.000000   0.000000   0.000000    0.000000   0.000000\n",
              "ps_car_05_cat    1.000000  -1.000000  -1.000000    1.000000  -1.000000\n",
              "ps_car_06_cat    4.000000  11.000000  14.000000   11.000000  14.000000\n",
              "ps_car_07_cat    1.000000   1.000000   1.000000    1.000000   1.000000\n",
              "ps_car_08_cat    0.000000   1.000000   1.000000    1.000000   1.000000\n",
              "ps_car_09_cat    0.000000   2.000000   2.000000    3.000000   2.000000\n",
              "ps_car_10_cat    1.000000   1.000000   1.000000    1.000000   1.000000\n",
              "ps_car_11_cat   12.000000  19.000000  60.000000  104.000000  82.000000\n",
              "ps_car_11        2.000000   3.000000   1.000000    1.000000   3.000000\n",
              "ps_car_12        0.400000   0.316228   0.316228    0.374166   0.316070\n",
              "ps_car_13        0.883679   0.618817   0.641586    0.542949   0.565832\n",
              "ps_car_14        0.370810   0.388716   0.347275    0.294958   0.365103\n",
              "ps_car_15        3.605551   2.449490   3.316625    2.000000   2.000000\n",
              "ps_calc_01       0.600000   0.300000   0.500000    0.600000   0.400000\n",
              "ps_calc_02       0.500000   0.100000   0.700000    0.900000   0.600000\n",
              "ps_calc_03       0.200000   0.300000   0.100000    0.100000   0.000000\n",
              "ps_calc_04       3.000000   2.000000   2.000000    2.000000   2.000000\n",
              "ps_calc_05       1.000000   1.000000   2.000000    4.000000   2.000000\n",
              "ps_calc_06      10.000000   9.000000   9.000000    7.000000   6.000000\n",
              "ps_calc_07       1.000000   5.000000   1.000000    1.000000   3.000000\n",
              "ps_calc_08      10.000000   8.000000   8.000000    8.000000  10.000000\n",
              "ps_calc_09       1.000000   1.000000   2.000000    4.000000   2.000000\n",
              "ps_calc_10       5.000000   7.000000   7.000000    2.000000  12.000000\n",
              "ps_calc_11       9.000000   3.000000   4.000000    2.000000   3.000000\n",
              "ps_calc_12       1.000000   1.000000   2.000000    2.000000   1.000000\n",
              "ps_calc_13       5.000000   1.000000   7.000000    4.000000   1.000000\n",
              "ps_calc_14       8.000000   9.000000   7.000000    9.000000   3.000000\n",
              "ps_calc_15_bin   0.000000   0.000000   0.000000    0.000000   0.000000\n",
              "ps_calc_16_bin   1.000000   1.000000   1.000000    0.000000   0.000000\n",
              "ps_calc_17_bin   1.000000   1.000000   1.000000    0.000000   0.000000\n",
              "ps_calc_18_bin   0.000000   0.000000   0.000000    0.000000   1.000000\n",
              "ps_calc_19_bin   0.000000   1.000000   1.000000    0.000000   1.000000\n",
              "ps_calc_20_bin   1.000000   0.000000   0.000000    0.000000   0.000000"
            ]
          },
          "metadata": {},
          "execution_count": 6
        }
      ]
    },
    {
      "cell_type": "code",
      "metadata": {
        "colab": {
          "base_uri": "https://localhost:8080/",
          "height": 267
        },
        "id": "4JXgRRHCkqNf",
        "outputId": "542165ec-53ab-4dbe-a822-f0b1c24821bb"
      },
      "source": [
        "# Tentativa de geração da plotagem das colunas existentes, porém como a quantidade é elevado, o gráfico acaba ficando\n",
        "# de forma desconfigurada e com o entendimento totalmente ilegivel. \n",
        "# Ainda é possível ver uma coluna que destoa das demais, sem conseguir identificar.\n",
        "\n",
        "# Retirado a coluna \"id\" que faz a identificação dos registros.\n",
        "df_train.drop('id', axis=1).plot.box(vert=False)\n",
        "plt.rcParams['figure.figsize'] = [5, 10]\n",
        "plt.show()"
      ],
      "execution_count": null,
      "outputs": [
        {
          "output_type": "display_data",
          "data": {
            "image/png": "[encoded data removed]",
            "text/plain": [
              "<Figure size 432x288 with 1 Axes>"
            ]
          },
          "metadata": {
            "needs_background": "light"
          }
        }
      ]
    },
    {
      "cell_type": "code",
      "metadata": {
        "id": "dP4TQnCGxO48"
      },
      "source": [
        "#Gerar um arquivo com a analise completa inicial em html \n",
        "#study_report = xx.analyze(df_train) \n"
      ],
      "execution_count": null,
      "outputs": []
    },
    {
      "cell_type": "code",
      "metadata": {
        "id": "3pakDZX1mn-7"
      },
      "source": [
        "#study_report.show_html()"
      ],
      "execution_count": null,
      "outputs": []
    },
    {
      "cell_type": "markdown",
      "metadata": {
        "id": "NUIHmfHuwqL1"
      },
      "source": [
        "# Analise da Coluna Target"
      ]
    },
    {
      "cell_type": "code",
      "metadata": {
        "colab": {
          "base_uri": "https://localhost:8080/"
        },
        "id": "s8iUwoTawOdf",
        "outputId": "6d6eb147-ebb3-4652-a124-4df7216115ad"
      },
      "source": [
        "# Idenficação do valor Mínimo e Máximo\n",
        "\n",
        "print('Valor mínimo do coluna Target: ', df_train['target'].min())\n",
        "print('Valor maximo do coluna Target: ', df_train['target'].max())"
      ],
      "execution_count": null,
      "outputs": [
        {
          "output_type": "stream",
          "name": "stdout",
          "text": [
            "Valor mínimo do coluna Target:  0\n",
            "Valor maximo do coluna Target:  1\n"
          ]
        }
      ]
    },
    {
      "cell_type": "code",
      "metadata": {
        "colab": {
          "base_uri": "https://localhost:8080/"
        },
        "id": "bot_c-ZRr6sx",
        "outputId": "95eaf141-9efd-475a-c90f-47f88baba093"
      },
      "source": [
        "# Quantidade de registros para cada valor da coluna 'Target'\n",
        "\n",
        "qtd_target = df_train['target'].value_counts()\n",
        "\n",
        "\n",
        "print('Quantidade de registros ' , df_train['target'].min() , ':' ,qtd_target[0], 'corresponde a:', qtd_target[0]/qtd_target.sum() * 100)\n",
        "print('Quantidade de registros ' , df_train['target'].max() , ':' ,qtd_target[1], 'corresponde a:', qtd_target[1]/qtd_target.sum() * 100)"
      ],
      "execution_count": null,
      "outputs": [
        {
          "output_type": "stream",
          "name": "stdout",
          "text": [
            "Quantidade de registros  0 : 573518 corresponde a: 96.3552482140817\n",
            "Quantidade de registros  1 : 21694 corresponde a: 3.6447517859182947\n"
          ]
        }
      ]
    },
    {
      "cell_type": "code",
      "metadata": {
        "colab": {
          "base_uri": "https://localhost:8080/",
          "height": 409
        },
        "id": "La7ZLEPqqQPC",
        "outputId": "55733c46-5f65-45a2-ebab-d8fe2ae4cd97"
      },
      "source": [
        "# Gráfico da coluna \"Target\", utilizando a biblioteca \"matplotlib\" \n",
        "# O intuido é demonstrar a diferença na quantidade de registros entre os valores da coluna\n",
        "\n",
        "plt.figure(figsize=(10,5))\n",
        "sns.countplot(df_train['target'], palette=\"Set2\")"
      ],
      "execution_count": null,
      "outputs": [
        {
          "output_type": "stream",
          "name": "stderr",
          "text": [
            "/usr/local/lib/python3.7/dist-packages/seaborn/_decorators.py:43: FutureWarning: Pass the following variable as a keyword arg: x. From version 0.12, the only valid positional argument will be `data`, and passing other arguments without an explicit keyword will result in an error or misinterpretation.\n",
            "  FutureWarning\n"
          ]
        },
        {
          "output_type": "execute_result",
          "data": {
            "text/plain": [
              "<matplotlib.axes._subplots.AxesSubplot at 0x7fc7a1adf710>"
            ]
          },
          "metadata": {},
          "execution_count": 12
        },
        {
          "output_type": "display_data",
          "data": {
            "image/png": "[encoded data removed]",
            "text/plain": [
              "<Figure size 720x360 with 1 Axes>"
            ]
          },
          "metadata": {
            "needs_background": "light"
          }
        }
      ]
    },
    {
      "cell_type": "markdown",
      "metadata": {
        "id": "mSrlHGtO-JFj"
      },
      "source": [
        "## ANALISE DO RESULTADO:\n",
        "***\n",
        "**Verificamos que o valor '0' demonstra as pessoas que não solicitou seguro e 1 as pessoas que solicitaram. \n",
        "Quantidade de registros que não solicitam sinistro é muito alto, o que demonstra que os dados fornecidos pelo Porto Seguro são Desbalanceados. Isso pode compromete a assertividade do modelo, porém também temos conhecimento de que a quantidade de pessoas que não geram sinistro é alta, o que justifica a coluna TARGET.**\n",
        "\n",
        "***"
      ]
    },
    {
      "cell_type": "markdown",
      "metadata": {
        "id": "r7Uf6aFr7wEn"
      },
      "source": [
        "# Separação das colunas em 8 grupos\n",
        "\n",
        "Inteção é facilitar a análise em grupos separadas, mas que parecem ser da mesma característica.\n",
        "\n",
        "* \"n\" indica a numeração da coluna.\n",
        "\n",
        "1.   **df_ps_ind**: colunas \"ps_ind_n\".\n",
        "2.   **df_ps_ind_cat**: colunas \"ps_ind_n_cat\".\n",
        "3.   **df_ps_ind_bin**: colunas \"ps_ind_n_bin\".\n",
        "4.   **df_ps_reg**: colunas \"ps_ps_reg_n\".\n",
        "5.   **df_ps_car**: colunas \"ps_car_n\".\n",
        "6.   **df_ps_car_cat**: colunas \"ps_car_n_cat\".\n",
        "7.   **df_ps_cal**: colunas \"ps_cal_n\".\n",
        "8.   **df_ps_cal_bin**: colunas \"ps_car_bin\".\n",
        "\n",
        "\n",
        "\n",
        "\n"
      ]
    },
    {
      "cell_type": "code",
      "metadata": {
        "id": "rZqSgWgQDX1W"
      },
      "source": [
        "# LISTA DAS COLUNAS CONFORME GRUPOS\n",
        "\n",
        "lista_ps_ind = ['ps_ind_01', 'ps_ind_03', 'ps_ind_14', 'ps_ind_15']\n",
        "\n",
        "lista_ps_ind_cat = ['ps_ind_02_cat','ps_ind_04_cat','ps_ind_05_cat']\n",
        "\n",
        "lista_ps_ind_bin = ['ps_ind_06_bin', 'ps_ind_07_bin', 'ps_ind_08_bin','ps_ind_09_bin', 'ps_ind_10_bin', 'ps_ind_11_bin', 'ps_ind_12_bin',\n",
        "                    'ps_ind_13_bin', 'ps_ind_16_bin', 'ps_ind_17_bin', 'ps_ind_18_bin']\n",
        "\n",
        "lista_ps_reg = ['ps_reg_01', 'ps_reg_02', 'ps_reg_03']         \n",
        "\n",
        "lista_ps_car = ['ps_car_11','ps_car_12', 'ps_car_13', 'ps_car_14', 'ps_car_15'] \n",
        "\n",
        "lista_ps_car_cat = ['ps_car_01_cat', 'ps_car_02_cat', 'ps_car_03_cat', 'ps_car_04_cat','ps_car_05_cat', 'ps_car_06_cat', \n",
        "                    'ps_car_07_cat', 'ps_car_08_cat','ps_car_09_cat', 'ps_car_10_cat', 'ps_car_11_cat']  \n",
        "\n",
        "lista_ps_cal = [ 'ps_calc_01','ps_calc_02', 'ps_calc_03', 'ps_calc_04', 'ps_calc_05', 'ps_calc_06','ps_calc_07', \n",
        "                'ps_calc_08', 'ps_calc_09', 'ps_calc_10', 'ps_calc_11','ps_calc_12', 'ps_calc_13', 'ps_calc_14']\n",
        "\n",
        "lista_ps_cal_bin = [ 'ps_calc_15_bin', 'ps_calc_16_bin', 'ps_calc_17_bin', 'ps_calc_18_bin','ps_calc_19_bin','ps_calc_20_bin']\n",
        "\n"
      ],
      "execution_count": null,
      "outputs": []
    },
    {
      "cell_type": "markdown",
      "metadata": {
        "id": "np8KJ33p7AMX"
      },
      "source": [
        "##**GRUPO 1**\n"
      ]
    },
    {
      "cell_type": "code",
      "metadata": {
        "id": "b-BmwK3a7Scd",
        "colab": {
          "base_uri": "https://localhost:8080/",
          "height": 300
        },
        "outputId": "53791e50-d167-4d14-bcb6-64dd3d4d5fa4"
      },
      "source": [
        "# Elimina do Data Frame as colunas que não possuem característica de nome parecido\n",
        "\n",
        "df_ps_ind = df_train\n",
        "\n",
        "lista =  lista_ps_ind_cat + lista_ps_ind_bin + lista_ps_reg + lista_ps_car + lista_ps_car_cat + lista_ps_cal + lista_ps_cal_bin\n",
        "df_ps_ind = df_ps_ind.drop(lista, axis=1)\n",
        "\n",
        "# Retira a coluna \"id\" para geração estatistica\n",
        "\n",
        "df_ps_ind.drop('id', axis=1).describe()"
      ],
      "execution_count": null,
      "outputs": [
        {
          "output_type": "execute_result",
          "data": {
            "text/html": [
              "<div>\n",
              "<style scoped>\n",
              "    .dataframe tbody tr th:only-of-type {\n",
              "        vertical-align: middle;\n",
              "    }\n",
              "\n",
              "    .dataframe tbody tr th {\n",
              "        vertical-align: top;\n",
              "    }\n",
              "\n",
              "    .dataframe thead th {\n",
              "        text-align: right;\n",
              "    }\n",
              "</style>\n",
              "<table border=\"1\" class=\"dataframe\">\n",
              "  <thead>\n",
              "    <tr style=\"text-align: right;\">\n",
              "      <th></th>\n",
              "      <th>target</th>\n",
              "      <th>ps_ind_01</th>\n",
              "      <th>ps_ind_03</th>\n",
              "      <th>ps_ind_14</th>\n",
              "      <th>ps_ind_15</th>\n",
              "    </tr>\n",
              "  </thead>\n",
              "  <tbody>\n",
              "    <tr>\n",
              "      <th>count</th>\n",
              "      <td>595212.000000</td>\n",
              "      <td>595212.000000</td>\n",
              "      <td>595212.000000</td>\n",
              "      <td>595212.000000</td>\n",
              "      <td>595212.000000</td>\n",
              "    </tr>\n",
              "    <tr>\n",
              "      <th>mean</th>\n",
              "      <td>0.036448</td>\n",
              "      <td>1.900378</td>\n",
              "      <td>4.423318</td>\n",
              "      <td>0.012451</td>\n",
              "      <td>7.299922</td>\n",
              "    </tr>\n",
              "    <tr>\n",
              "      <th>std</th>\n",
              "      <td>0.187401</td>\n",
              "      <td>1.983789</td>\n",
              "      <td>2.699902</td>\n",
              "      <td>0.127545</td>\n",
              "      <td>3.546042</td>\n",
              "    </tr>\n",
              "    <tr>\n",
              "      <th>min</th>\n",
              "      <td>0.000000</td>\n",
              "      <td>0.000000</td>\n",
              "      <td>0.000000</td>\n",
              "      <td>0.000000</td>\n",
              "      <td>0.000000</td>\n",
              "    </tr>\n",
              "    <tr>\n",
              "      <th>25%</th>\n",
              "      <td>0.000000</td>\n",
              "      <td>0.000000</td>\n",
              "      <td>2.000000</td>\n",
              "      <td>0.000000</td>\n",
              "      <td>5.000000</td>\n",
              "    </tr>\n",
              "    <tr>\n",
              "      <th>50%</th>\n",
              "      <td>0.000000</td>\n",
              "      <td>1.000000</td>\n",
              "      <td>4.000000</td>\n",
              "      <td>0.000000</td>\n",
              "      <td>7.000000</td>\n",
              "    </tr>\n",
              "    <tr>\n",
              "      <th>75%</th>\n",
              "      <td>0.000000</td>\n",
              "      <td>3.000000</td>\n",
              "      <td>6.000000</td>\n",
              "      <td>0.000000</td>\n",
              "      <td>10.000000</td>\n",
              "    </tr>\n",
              "    <tr>\n",
              "      <th>max</th>\n",
              "      <td>1.000000</td>\n",
              "      <td>7.000000</td>\n",
              "      <td>11.000000</td>\n",
              "      <td>4.000000</td>\n",
              "      <td>13.000000</td>\n",
              "    </tr>\n",
              "  </tbody>\n",
              "</table>\n",
              "</div>"
            ],
            "text/plain": [
              "              target      ps_ind_01  ...      ps_ind_14      ps_ind_15\n",
              "count  595212.000000  595212.000000  ...  595212.000000  595212.000000\n",
              "mean        0.036448       1.900378  ...       0.012451       7.299922\n",
              "std         0.187401       1.983789  ...       0.127545       3.546042\n",
              "min         0.000000       0.000000  ...       0.000000       0.000000\n",
              "25%         0.000000       0.000000  ...       0.000000       5.000000\n",
              "50%         0.000000       1.000000  ...       0.000000       7.000000\n",
              "75%         0.000000       3.000000  ...       0.000000      10.000000\n",
              "max         1.000000       7.000000  ...       4.000000      13.000000\n",
              "\n",
              "[8 rows x 5 columns]"
            ]
          },
          "metadata": {},
          "execution_count": 14
        }
      ]
    },
    {
      "cell_type": "code",
      "metadata": {
        "colab": {
          "base_uri": "https://localhost:8080/",
          "height": 609
        },
        "id": "-ytYsbxujqUb",
        "outputId": "ed3ee1c8-f155-4f14-c189-741b7f144d67"
      },
      "source": [
        "# Gera um gráfico do tipo Boxplot, porém desconsiderando as colunas \"ID\" e \"TARGET\"\n",
        "# Coluna \"ID\" é somente para associação com dados de outros grupos, mas que possuem mesmo \"ID\"\n",
        "\n",
        "lista_id_target = ['id', 'target']\n",
        "df_ps_ind.drop(lista_id_target, axis=1).plot.box(vert=False)"
      ],
      "execution_count": null,
      "outputs": [
        {
          "output_type": "execute_result",
          "data": {
            "text/plain": [
              "<matplotlib.axes._subplots.AxesSubplot at 0x7fc7a1a5e210>"
            ]
          },
          "metadata": {},
          "execution_count": 15
        },
        {
          "output_type": "display_data",
          "data": {
            "image/png": "[encoded data removed]",
            "text/plain": [
              "<Figure size 360x720 with 1 Axes>"
            ]
          },
          "metadata": {
            "needs_background": "light"
          }
        }
      ]
    },
    {
      "cell_type": "code",
      "metadata": {
        "colab": {
          "base_uri": "https://localhost:8080/",
          "height": 546
        },
        "id": "zbs-V7dP3gU7",
        "outputId": "012a960d-7a39-4eb7-e896-9959ae49d401"
      },
      "source": [
        "# Analisando o gráfico anterior, vamos identificar os outliers pertencentes a coluna \"ps_ind_14\"\n",
        "# Neste caso, é a única coluna com outlier.\n",
        "\n",
        "qtd_outliers = df_ps_ind['ps_ind_14'].value_counts()\n",
        "\n",
        "print('Quantidade de registros por dimensão na coluna PS_IND_14')\n",
        "print(qtd_outliers)\n",
        "\n",
        "print(\"***************************************************************\")\n",
        "\n",
        "\n",
        "\n",
        "plt.figure(figsize=(10,5))\n",
        "sns.countplot(df_ps_ind['ps_ind_14'], palette=\"Set2\")"
      ],
      "execution_count": null,
      "outputs": [
        {
          "output_type": "stream",
          "name": "stdout",
          "text": [
            "Quantidade de registros por dimensão na coluna PS_IND_14\n",
            "0    588832\n",
            "1      5495\n",
            "2       744\n",
            "3       136\n",
            "4         5\n",
            "Name: ps_ind_14, dtype: int64\n",
            "***************************************************************\n"
          ]
        },
        {
          "output_type": "stream",
          "name": "stderr",
          "text": [
            "/usr/local/lib/python3.7/dist-packages/seaborn/_decorators.py:43: FutureWarning: Pass the following variable as a keyword arg: x. From version 0.12, the only valid positional argument will be `data`, and passing other arguments without an explicit keyword will result in an error or misinterpretation.\n",
            "  FutureWarning\n"
          ]
        },
        {
          "output_type": "execute_result",
          "data": {
            "text/plain": [
              "<matplotlib.axes._subplots.AxesSubplot at 0x7fc7a1956e10>"
            ]
          },
          "metadata": {},
          "execution_count": 16
        },
        {
          "output_type": "display_data",
          "data": {
            "image/png": "[encoded data removed]",
            "text/plain": [
              "<Figure size 720x360 with 1 Axes>"
            ]
          },
          "metadata": {
            "needs_background": "light"
          }
        }
      ]
    },
    {
      "cell_type": "markdown",
      "metadata": {
        "id": "lnn4f-piFZ5f"
      },
      "source": [
        "***\n",
        "Assim como a coluna **TARGET** , é possível identificar pelo gráfico que existem muitos registros com valor '0'\n",
        "\n",
        "***\n"
      ]
    },
    {
      "cell_type": "code",
      "metadata": {
        "id": "lj-Sb8tkisNV",
        "colab": {
          "base_uri": "https://localhost:8080/",
          "height": 581
        },
        "outputId": "24b5d9c6-c9fd-45b9-858d-3871ca8f4a76"
      },
      "source": [
        "# Grupo 1: Index(['id', 'target', 'ps_ind_01', 'ps_ind_03', 'ps_ind_14', 'ps_ind_15'], dtype='object')\n",
        "# Gráfico de cada coluna por quantidade de registros por tipo de dado.\n",
        "\n",
        "fig,ax = plt.subplots(3,2,figsize=(15,5),sharex='all')\n",
        "ax1,ax2,ax3,ax4, ax5, ax6 = ax.flatten()\n",
        "sns.countplot(df_ps_ind['target'],palette='summer',ax=ax1)\n",
        "sns.countplot(df_ps_ind['target'],palette='summer',ax=ax2)\n",
        "sns.countplot(df_ps_ind['ps_ind_01'],palette='summer',ax=ax3)\n",
        "sns.countplot(df_ps_ind['ps_ind_03'],palette='summer',ax=ax4)\n",
        "sns.countplot(df_ps_ind['ps_ind_14'],palette='summer',ax=ax5)\n",
        "sns.countplot(df_ps_ind['ps_ind_15'],palette='summer',ax=ax6)\n"
      ],
      "execution_count": null,
      "outputs": [
        {
          "output_type": "stream",
          "name": "stderr",
          "text": [
            "/usr/local/lib/python3.7/dist-packages/seaborn/_decorators.py:43: FutureWarning: Pass the following variable as a keyword arg: x. From version 0.12, the only valid positional argument will be `data`, and passing other arguments without an explicit keyword will result in an error or misinterpretation.\n",
            "  FutureWarning\n",
            "/usr/local/lib/python3.7/dist-packages/seaborn/_decorators.py:43: FutureWarning: Pass the following variable as a keyword arg: x. From version 0.12, the only valid positional argument will be `data`, and passing other arguments without an explicit keyword will result in an error or misinterpretation.\n",
            "  FutureWarning\n",
            "/usr/local/lib/python3.7/dist-packages/seaborn/_decorators.py:43: FutureWarning: Pass the following variable as a keyword arg: x. From version 0.12, the only valid positional argument will be `data`, and passing other arguments without an explicit keyword will result in an error or misinterpretation.\n",
            "  FutureWarning\n",
            "/usr/local/lib/python3.7/dist-packages/seaborn/_decorators.py:43: FutureWarning: Pass the following variable as a keyword arg: x. From version 0.12, the only valid positional argument will be `data`, and passing other arguments without an explicit keyword will result in an error or misinterpretation.\n",
            "  FutureWarning\n",
            "/usr/local/lib/python3.7/dist-packages/seaborn/_decorators.py:43: FutureWarning: Pass the following variable as a keyword arg: x. From version 0.12, the only valid positional argument will be `data`, and passing other arguments without an explicit keyword will result in an error or misinterpretation.\n",
            "  FutureWarning\n",
            "/usr/local/lib/python3.7/dist-packages/seaborn/_decorators.py:43: FutureWarning: Pass the following variable as a keyword arg: x. From version 0.12, the only valid positional argument will be `data`, and passing other arguments without an explicit keyword will result in an error or misinterpretation.\n",
            "  FutureWarning\n"
          ]
        },
        {
          "output_type": "execute_result",
          "data": {
            "text/plain": [
              "<matplotlib.axes._subplots.AxesSubplot at 0x7fc7a17e2850>"
            ]
          },
          "metadata": {},
          "execution_count": 17
        },
        {
          "output_type": "display_data",
          "data": {
            "image/png": "[encoded data removed]",
            "text/plain": [
              "<Figure size 1080x360 with 6 Axes>"
            ]
          },
          "metadata": {
            "needs_background": "light"
          }
        }
      ]
    },
    {
      "cell_type": "markdown",
      "metadata": {
        "id": "jUIRzwRO57To"
      },
      "source": [
        "## ANALISE DO RESULTADO - GRUPO 1:\n",
        "***\n",
        "Graficos demonstram que existem diversos valores para tipos de colunas diferentes.\n",
        " Atenção para coluna \"ps_ind_14\", onde analise separada demonstrou que coluna possui 4 tipos de valores, porém a maioria dos registros são de valor zerado. O que se identifica com a maioria dos valores do TARGET.\n",
        "\n",
        "***\n"
      ]
    },
    {
      "cell_type": "markdown",
      "metadata": {
        "id": "fAraN79O7Ilo"
      },
      "source": [
        "##**GRUPO 2**"
      ]
    },
    {
      "cell_type": "code",
      "metadata": {
        "id": "qvfqoWAj6aN9",
        "colab": {
          "base_uri": "https://localhost:8080/",
          "height": 300
        },
        "outputId": "f864b7de-1764-453a-bc3d-7be49ccc9dc2"
      },
      "source": [
        "# Elimina do Data Frame as colunas que não possuem característica de nome parecido\n",
        "\n",
        "df_ps_ind_cat = df_train\n",
        "\n",
        "lista =  lista_ps_ind + lista_ps_ind_bin + lista_ps_reg + lista_ps_car + lista_ps_car_cat + lista_ps_cal + lista_ps_cal_bin\n",
        "df_ps_ind_cat = df_ps_ind_cat.drop(lista, axis=1)\n",
        "\n",
        "\n",
        "# Retira a coluna \"id\" para geração estatistica\n",
        "\n",
        "df_ps_ind_cat.drop('id', axis=1).describe()"
      ],
      "execution_count": null,
      "outputs": [
        {
          "output_type": "execute_result",
          "data": {
            "text/html": [
              "<div>\n",
              "<style scoped>\n",
              "    .dataframe tbody tr th:only-of-type {\n",
              "        vertical-align: middle;\n",
              "    }\n",
              "\n",
              "    .dataframe tbody tr th {\n",
              "        vertical-align: top;\n",
              "    }\n",
              "\n",
              "    .dataframe thead th {\n",
              "        text-align: right;\n",
              "    }\n",
              "</style>\n",
              "<table border=\"1\" class=\"dataframe\">\n",
              "  <thead>\n",
              "    <tr style=\"text-align: right;\">\n",
              "      <th></th>\n",
              "      <th>target</th>\n",
              "      <th>ps_ind_02_cat</th>\n",
              "      <th>ps_ind_04_cat</th>\n",
              "      <th>ps_ind_05_cat</th>\n",
              "    </tr>\n",
              "  </thead>\n",
              "  <tbody>\n",
              "    <tr>\n",
              "      <th>count</th>\n",
              "      <td>595212.000000</td>\n",
              "      <td>595212.000000</td>\n",
              "      <td>595212.000000</td>\n",
              "      <td>595212.000000</td>\n",
              "    </tr>\n",
              "    <tr>\n",
              "      <th>mean</th>\n",
              "      <td>0.036448</td>\n",
              "      <td>1.358943</td>\n",
              "      <td>0.416794</td>\n",
              "      <td>0.405188</td>\n",
              "    </tr>\n",
              "    <tr>\n",
              "      <th>std</th>\n",
              "      <td>0.187401</td>\n",
              "      <td>0.664594</td>\n",
              "      <td>0.493311</td>\n",
              "      <td>1.350642</td>\n",
              "    </tr>\n",
              "    <tr>\n",
              "      <th>min</th>\n",
              "      <td>0.000000</td>\n",
              "      <td>-1.000000</td>\n",
              "      <td>-1.000000</td>\n",
              "      <td>-1.000000</td>\n",
              "    </tr>\n",
              "    <tr>\n",
              "      <th>25%</th>\n",
              "      <td>0.000000</td>\n",
              "      <td>1.000000</td>\n",
              "      <td>0.000000</td>\n",
              "      <td>0.000000</td>\n",
              "    </tr>\n",
              "    <tr>\n",
              "      <th>50%</th>\n",
              "      <td>0.000000</td>\n",
              "      <td>1.000000</td>\n",
              "      <td>0.000000</td>\n",
              "      <td>0.000000</td>\n",
              "    </tr>\n",
              "    <tr>\n",
              "      <th>75%</th>\n",
              "      <td>0.000000</td>\n",
              "      <td>2.000000</td>\n",
              "      <td>1.000000</td>\n",
              "      <td>0.000000</td>\n",
              "    </tr>\n",
              "    <tr>\n",
              "      <th>max</th>\n",
              "      <td>1.000000</td>\n",
              "      <td>4.000000</td>\n",
              "      <td>1.000000</td>\n",
              "      <td>6.000000</td>\n",
              "    </tr>\n",
              "  </tbody>\n",
              "</table>\n",
              "</div>"
            ],
            "text/plain": [
              "              target  ps_ind_02_cat  ps_ind_04_cat  ps_ind_05_cat\n",
              "count  595212.000000  595212.000000  595212.000000  595212.000000\n",
              "mean        0.036448       1.358943       0.416794       0.405188\n",
              "std         0.187401       0.664594       0.493311       1.350642\n",
              "min         0.000000      -1.000000      -1.000000      -1.000000\n",
              "25%         0.000000       1.000000       0.000000       0.000000\n",
              "50%         0.000000       1.000000       0.000000       0.000000\n",
              "75%         0.000000       2.000000       1.000000       0.000000\n",
              "max         1.000000       4.000000       1.000000       6.000000"
            ]
          },
          "metadata": {},
          "execution_count": 18
        }
      ]
    },
    {
      "cell_type": "code",
      "metadata": {
        "colab": {
          "base_uri": "https://localhost:8080/",
          "height": 609
        },
        "id": "7X4DLUnK_fE6",
        "outputId": "273e43e5-fc6d-44dd-d15a-7e407521f927"
      },
      "source": [
        "# Gera um gráfico do tipo Boxplot, porém desconsiderando as colunas \"ID\" e \"TARGET\"\n",
        "# Coluna \"ID\" é somente para associação com dados de outros grupos, mas que possuem mesmo \"ID\"\n",
        "\n",
        "lista_id_target = ['id', 'target']\n",
        "df_ps_ind_cat.drop(lista_id_target, axis=1).plot.box(vert=False)"
      ],
      "execution_count": null,
      "outputs": [
        {
          "output_type": "execute_result",
          "data": {
            "text/plain": [
              "<matplotlib.axes._subplots.AxesSubplot at 0x7fc7a193e510>"
            ]
          },
          "metadata": {},
          "execution_count": 19
        },
        {
          "output_type": "display_data",
          "data": {
            "image/png": "[encoded data removed]",
            "text/plain": [
              "<Figure size 360x720 with 1 Axes>"
            ]
          },
          "metadata": {
            "needs_background": "light"
          }
        }
      ]
    },
    {
      "cell_type": "code",
      "metadata": {
        "colab": {
          "base_uri": "https://localhost:8080/"
        },
        "id": "sO91Dpsl_xnE",
        "outputId": "7817d138-5cc1-4f4e-a9e4-eeffcf90e186"
      },
      "source": [
        "# Analisando o gráfico anterior, vamos identificar os outliers pertencentes a coluna \"ps_ind_05_cat\" e \"ps_ind_02_cat\"\n",
        "\n",
        "qtd_outliers= df_ps_ind_cat['ps_ind_05_cat'].value_counts()\n",
        "qtd_outliers_02= df_ps_ind_cat['ps_ind_02_cat'].value_counts()\n",
        "\n",
        "print('Quantidade de registros por dimensão na coluna PS_IND_05_CAT')\n",
        "print(qtd_outliers)\n",
        "\n",
        "print(\"*****************************************************************************\")\n",
        "\n",
        "print('Quantidade de registros por dimensão na coluna PS_IND_02_CAT')\n",
        "print(qtd_outliers_02)\n",
        "\n",
        "print(\"*****************************************************************************\")\n"
      ],
      "execution_count": null,
      "outputs": [
        {
          "output_type": "stream",
          "name": "stdout",
          "text": [
            "Quantidade de registros por dimensão na coluna PS_IND_05_CAT\n",
            " 0    528009\n",
            " 6     20662\n",
            " 4     18344\n",
            " 1      8322\n",
            " 3      8233\n",
            "-1      5809\n",
            " 2      4184\n",
            " 5      1649\n",
            "Name: ps_ind_05_cat, dtype: int64\n",
            "*****************************************************************************\n",
            "Quantidade de registros por dimensão na coluna PS_IND_02_CAT\n",
            " 1    431859\n",
            " 2    123573\n",
            " 3     28186\n",
            " 4     11378\n",
            "-1       216\n",
            "Name: ps_ind_02_cat, dtype: int64\n",
            "*****************************************************************************\n"
          ]
        }
      ]
    },
    {
      "cell_type": "code",
      "metadata": {
        "colab": {
          "base_uri": "https://localhost:8080/",
          "height": 514
        },
        "id": "X2tDafoYCGp7",
        "outputId": "2a1b05b5-a4ea-4b14-a793-d2787ead64f6"
      },
      "source": [
        "# Grupo 2: Index(['id', 'target', 'ps_ind_02_cat', 'ps_ind_04_cat', 'ps_ind_05_cat'])\n",
        "# Gráfico de cada coluna por quantidade de registros por tipo de dado.\n",
        "\n",
        "fig,ax = plt.subplots(2,2,figsize=(15,5),sharex='all')\n",
        "ax1,ax2,ax3,ax4 = ax.flatten()\n",
        "sns.countplot(df_ps_ind_cat['target'],palette='summer',ax=ax1)\n",
        "sns.countplot(df_ps_ind_cat['ps_ind_02_cat'],palette='summer',ax=ax2)\n",
        "sns.countplot(df_ps_ind_cat['ps_ind_04_cat'],palette='summer',ax=ax3)\n",
        "sns.countplot(df_ps_ind_cat['ps_ind_05_cat'],palette='summer',ax=ax4)"
      ],
      "execution_count": null,
      "outputs": [
        {
          "output_type": "stream",
          "name": "stderr",
          "text": [
            "/usr/local/lib/python3.7/dist-packages/seaborn/_decorators.py:43: FutureWarning: Pass the following variable as a keyword arg: x. From version 0.12, the only valid positional argument will be `data`, and passing other arguments without an explicit keyword will result in an error or misinterpretation.\n",
            "  FutureWarning\n",
            "/usr/local/lib/python3.7/dist-packages/seaborn/_decorators.py:43: FutureWarning: Pass the following variable as a keyword arg: x. From version 0.12, the only valid positional argument will be `data`, and passing other arguments without an explicit keyword will result in an error or misinterpretation.\n",
            "  FutureWarning\n",
            "/usr/local/lib/python3.7/dist-packages/seaborn/_decorators.py:43: FutureWarning: Pass the following variable as a keyword arg: x. From version 0.12, the only valid positional argument will be `data`, and passing other arguments without an explicit keyword will result in an error or misinterpretation.\n",
            "  FutureWarning\n",
            "/usr/local/lib/python3.7/dist-packages/seaborn/_decorators.py:43: FutureWarning: Pass the following variable as a keyword arg: x. From version 0.12, the only valid positional argument will be `data`, and passing other arguments without an explicit keyword will result in an error or misinterpretation.\n",
            "  FutureWarning\n"
          ]
        },
        {
          "output_type": "execute_result",
          "data": {
            "text/plain": [
              "<matplotlib.axes._subplots.AxesSubplot at 0x7fc7a2073510>"
            ]
          },
          "metadata": {},
          "execution_count": 21
        },
        {
          "output_type": "display_data",
          "data": {
            "image/png": "[encoded data removed]",
            "text/plain": [
              "<Figure size 1080x360 with 4 Axes>"
            ]
          },
          "metadata": {
            "needs_background": "light"
          }
        }
      ]
    },
    {
      "cell_type": "markdown",
      "metadata": {
        "id": "sCUPPYWTD8PS"
      },
      "source": [
        "## ANALISE DO RESULTADO - GRUPO 2:\n",
        "***\n",
        "Verificado que existem colunas com valores negativos.\n",
        "Na descrição do problema foi informado que valores negativos são nulos e que tiram seu preenchimento feito pela Porto Seguro.\n",
        "***"
      ]
    },
    {
      "cell_type": "markdown",
      "metadata": {
        "id": "FC97n19q7MuA"
      },
      "source": [
        "##**GRUPO 3**"
      ]
    },
    {
      "cell_type": "code",
      "metadata": {
        "id": "XDdu86xW6wuG",
        "colab": {
          "base_uri": "https://localhost:8080/",
          "height": 426
        },
        "outputId": "a609958d-0e5d-45b5-bd68-cb7a2b725f8d"
      },
      "source": [
        "# Elimina do Data Frame as colunas que não possuem característica de nome parecido\n",
        "\n",
        "df_ps_ind_bin = df_train\n",
        "\n",
        "lista =  lista_ps_ind + lista_ps_ind_cat + lista_ps_reg + lista_ps_car + lista_ps_car_cat + lista_ps_cal + lista_ps_cal_bin\n",
        "df_ps_ind_bin = df_ps_ind_bin.drop(lista, axis=1)\n",
        "\n",
        "# Retira a coluna \"id\" para geração estatistica\n",
        "\n",
        "df_ps_ind_bin.drop('id', axis=1).describe().T\n",
        "\n",
        "## Todos os valores estam entre 0 e 1.\n",
        "## O que identifica que esse conjunto é binario"
      ],
      "execution_count": null,
      "outputs": [
        {
          "output_type": "execute_result",
          "data": {
            "text/html": [
              "<div>\n",
              "<style scoped>\n",
              "    .dataframe tbody tr th:only-of-type {\n",
              "        vertical-align: middle;\n",
              "    }\n",
              "\n",
              "    .dataframe tbody tr th {\n",
              "        vertical-align: top;\n",
              "    }\n",
              "\n",
              "    .dataframe thead th {\n",
              "        text-align: right;\n",
              "    }\n",
              "</style>\n",
              "<table border=\"1\" class=\"dataframe\">\n",
              "  <thead>\n",
              "    <tr style=\"text-align: right;\">\n",
              "      <th></th>\n",
              "      <th>count</th>\n",
              "      <th>mean</th>\n",
              "      <th>std</th>\n",
              "      <th>min</th>\n",
              "      <th>25%</th>\n",
              "      <th>50%</th>\n",
              "      <th>75%</th>\n",
              "      <th>max</th>\n",
              "    </tr>\n",
              "  </thead>\n",
              "  <tbody>\n",
              "    <tr>\n",
              "      <th>target</th>\n",
              "      <td>595212.0</td>\n",
              "      <td>0.036448</td>\n",
              "      <td>0.187401</td>\n",
              "      <td>0.0</td>\n",
              "      <td>0.0</td>\n",
              "      <td>0.0</td>\n",
              "      <td>0.0</td>\n",
              "      <td>1.0</td>\n",
              "    </tr>\n",
              "    <tr>\n",
              "      <th>ps_ind_06_bin</th>\n",
              "      <td>595212.0</td>\n",
              "      <td>0.393742</td>\n",
              "      <td>0.488579</td>\n",
              "      <td>0.0</td>\n",
              "      <td>0.0</td>\n",
              "      <td>0.0</td>\n",
              "      <td>1.0</td>\n",
              "      <td>1.0</td>\n",
              "    </tr>\n",
              "    <tr>\n",
              "      <th>ps_ind_07_bin</th>\n",
              "      <td>595212.0</td>\n",
              "      <td>0.257033</td>\n",
              "      <td>0.436998</td>\n",
              "      <td>0.0</td>\n",
              "      <td>0.0</td>\n",
              "      <td>0.0</td>\n",
              "      <td>1.0</td>\n",
              "      <td>1.0</td>\n",
              "    </tr>\n",
              "    <tr>\n",
              "      <th>ps_ind_08_bin</th>\n",
              "      <td>595212.0</td>\n",
              "      <td>0.163921</td>\n",
              "      <td>0.370205</td>\n",
              "      <td>0.0</td>\n",
              "      <td>0.0</td>\n",
              "      <td>0.0</td>\n",
              "      <td>0.0</td>\n",
              "      <td>1.0</td>\n",
              "    </tr>\n",
              "    <tr>\n",
              "      <th>ps_ind_09_bin</th>\n",
              "      <td>595212.0</td>\n",
              "      <td>0.185304</td>\n",
              "      <td>0.388544</td>\n",
              "      <td>0.0</td>\n",
              "      <td>0.0</td>\n",
              "      <td>0.0</td>\n",
              "      <td>0.0</td>\n",
              "      <td>1.0</td>\n",
              "    </tr>\n",
              "    <tr>\n",
              "      <th>ps_ind_10_bin</th>\n",
              "      <td>595212.0</td>\n",
              "      <td>0.000373</td>\n",
              "      <td>0.019309</td>\n",
              "      <td>0.0</td>\n",
              "      <td>0.0</td>\n",
              "      <td>0.0</td>\n",
              "      <td>0.0</td>\n",
              "      <td>1.0</td>\n",
              "    </tr>\n",
              "    <tr>\n",
              "      <th>ps_ind_11_bin</th>\n",
              "      <td>595212.0</td>\n",
              "      <td>0.001692</td>\n",
              "      <td>0.041097</td>\n",
              "      <td>0.0</td>\n",
              "      <td>0.0</td>\n",
              "      <td>0.0</td>\n",
              "      <td>0.0</td>\n",
              "      <td>1.0</td>\n",
              "    </tr>\n",
              "    <tr>\n",
              "      <th>ps_ind_12_bin</th>\n",
              "      <td>595212.0</td>\n",
              "      <td>0.009439</td>\n",
              "      <td>0.096693</td>\n",
              "      <td>0.0</td>\n",
              "      <td>0.0</td>\n",
              "      <td>0.0</td>\n",
              "      <td>0.0</td>\n",
              "      <td>1.0</td>\n",
              "    </tr>\n",
              "    <tr>\n",
              "      <th>ps_ind_13_bin</th>\n",
              "      <td>595212.0</td>\n",
              "      <td>0.000948</td>\n",
              "      <td>0.030768</td>\n",
              "      <td>0.0</td>\n",
              "      <td>0.0</td>\n",
              "      <td>0.0</td>\n",
              "      <td>0.0</td>\n",
              "      <td>1.0</td>\n",
              "    </tr>\n",
              "    <tr>\n",
              "      <th>ps_ind_16_bin</th>\n",
              "      <td>595212.0</td>\n",
              "      <td>0.660823</td>\n",
              "      <td>0.473430</td>\n",
              "      <td>0.0</td>\n",
              "      <td>0.0</td>\n",
              "      <td>1.0</td>\n",
              "      <td>1.0</td>\n",
              "      <td>1.0</td>\n",
              "    </tr>\n",
              "    <tr>\n",
              "      <th>ps_ind_17_bin</th>\n",
              "      <td>595212.0</td>\n",
              "      <td>0.121081</td>\n",
              "      <td>0.326222</td>\n",
              "      <td>0.0</td>\n",
              "      <td>0.0</td>\n",
              "      <td>0.0</td>\n",
              "      <td>0.0</td>\n",
              "      <td>1.0</td>\n",
              "    </tr>\n",
              "    <tr>\n",
              "      <th>ps_ind_18_bin</th>\n",
              "      <td>595212.0</td>\n",
              "      <td>0.153446</td>\n",
              "      <td>0.360417</td>\n",
              "      <td>0.0</td>\n",
              "      <td>0.0</td>\n",
              "      <td>0.0</td>\n",
              "      <td>0.0</td>\n",
              "      <td>1.0</td>\n",
              "    </tr>\n",
              "  </tbody>\n",
              "</table>\n",
              "</div>"
            ],
            "text/plain": [
              "                  count      mean       std  min  25%  50%  75%  max\n",
              "target         595212.0  0.036448  0.187401  0.0  0.0  0.0  0.0  1.0\n",
              "ps_ind_06_bin  595212.0  0.393742  0.488579  0.0  0.0  0.0  1.0  1.0\n",
              "ps_ind_07_bin  595212.0  0.257033  0.436998  0.0  0.0  0.0  1.0  1.0\n",
              "ps_ind_08_bin  595212.0  0.163921  0.370205  0.0  0.0  0.0  0.0  1.0\n",
              "ps_ind_09_bin  595212.0  0.185304  0.388544  0.0  0.0  0.0  0.0  1.0\n",
              "ps_ind_10_bin  595212.0  0.000373  0.019309  0.0  0.0  0.0  0.0  1.0\n",
              "ps_ind_11_bin  595212.0  0.001692  0.041097  0.0  0.0  0.0  0.0  1.0\n",
              "ps_ind_12_bin  595212.0  0.009439  0.096693  0.0  0.0  0.0  0.0  1.0\n",
              "ps_ind_13_bin  595212.0  0.000948  0.030768  0.0  0.0  0.0  0.0  1.0\n",
              "ps_ind_16_bin  595212.0  0.660823  0.473430  0.0  0.0  1.0  1.0  1.0\n",
              "ps_ind_17_bin  595212.0  0.121081  0.326222  0.0  0.0  0.0  0.0  1.0\n",
              "ps_ind_18_bin  595212.0  0.153446  0.360417  0.0  0.0  0.0  0.0  1.0"
            ]
          },
          "metadata": {},
          "execution_count": 22
        }
      ]
    },
    {
      "cell_type": "code",
      "metadata": {
        "colab": {
          "base_uri": "https://localhost:8080/"
        },
        "id": "6Vcs520wKZsk",
        "outputId": "702a88b2-67e2-4abf-d389-b4e2b53ba921"
      },
      "source": [
        "# Geração dos valores da matriz comparando o Target com a coluna\n",
        "\n",
        "\n",
        "print('Confusion matrix - TARGET x PS_IND_06_BIN ')\n",
        "matrix = confusion_matrix(df_ps_ind_bin['target'],df_ps_ind_bin['ps_ind_06_bin'])\n",
        "print(matrix)\n",
        "\n",
        "print('\\n*********************************************************************\\n')\n",
        "\n",
        "print('Confusion matrix - TARGET x PS_IND_07_BIN ')\n",
        "matrix = confusion_matrix(df_ps_ind_bin['target'],df_ps_ind_bin['ps_ind_07_bin'])\n",
        "print(matrix)\n",
        "\n",
        "print('\\n*********************************************************************\\n')\n",
        "\n",
        "print('Confusion matrix - TARGET x PS_IND_10_BIN ')\n",
        "matrix = confusion_matrix(df_ps_ind_bin['target'],df_ps_ind_bin['ps_ind_10_bin'])\n",
        "print(matrix)"
      ],
      "execution_count": null,
      "outputs": [
        {
          "output_type": "stream",
          "name": "stdout",
          "text": [
            "Confusion matrix - TARGET x PS_IND_06_BIN \n",
            "[[345846 227672]\n",
            " [ 15006   6688]]\n",
            "\n",
            "*********************************************************************\n",
            "\n",
            "Confusion matrix - TARGET x PS_IND_07_BIN \n",
            "[[427773 145745]\n",
            " [ 14450   7244]]\n",
            "\n",
            "*********************************************************************\n",
            "\n",
            "Confusion matrix - TARGET x PS_IND_10_BIN \n",
            "[[573308    210]\n",
            " [ 21682     12]]\n"
          ]
        }
      ]
    },
    {
      "cell_type": "code",
      "metadata": {
        "id": "gsQzVNpRO4sA",
        "outputId": "66afc98e-904a-4467-cf26-8bb8586c8b26",
        "colab": {
          "base_uri": "https://localhost:8080/",
          "height": 609
        }
      },
      "source": [
        "# Gera um gráfico do tipo Boxplot, porém desconsiderando as colunas \"ID\" e \"TARGET\"\n",
        "# Coluna \"ID\" é somente para associação com dados de outros grupos, mas que possuem mesmo \"ID\"\n",
        "\n",
        "lista_id_target = ['id', 'target']\n",
        "df_ps_ind_bin.drop('id', axis=1).plot.box()\n",
        "plt.figure(figsize=(20,20))\n",
        "plt.show()"
      ],
      "execution_count": null,
      "outputs": [
        {
          "output_type": "display_data",
          "data": {
            "image/png": "[encoded data removed]",
            "text/plain": [
              "<Figure size 360x720 with 1 Axes>"
            ]
          },
          "metadata": {
            "needs_background": "light"
          }
        },
        {
          "output_type": "display_data",
          "data": {
            "text/plain": [
              "<Figure size 1440x1440 with 0 Axes>"
            ]
          },
          "metadata": {}
        }
      ]
    },
    {
      "cell_type": "code",
      "metadata": {
        "id": "Qfj7Tob6Zej4",
        "outputId": "a16c783f-1831-4af7-90ef-5bba9c2ecbc9",
        "colab": {
          "base_uri": "https://localhost:8080/",
          "height": 494
        }
      },
      "source": [
        "# Analisando o gráfico anterior, vamos identificar os outliers pertencentes a coluna \"ps_ind_07_bin\"\n",
        "\n",
        "qtd_outliers= df_ps_ind_bin['ps_ind_12_bin'].value_counts()\n",
        "\n",
        "print('Quantidade de registros por dimensão na coluna PS_IND_12_BIN')\n",
        "print(qtd_outliers)\n",
        "\n",
        "print(\"*****************************************************************************\")\n",
        "\n",
        "\n",
        "plt.figure(figsize=(10,5))\n",
        "sns.countplot(df_ps_ind_bin['ps_ind_12_bin'], palette=\"Set2\")"
      ],
      "execution_count": null,
      "outputs": [
        {
          "output_type": "stream",
          "name": "stdout",
          "text": [
            "Quantidade de registros por dimensão na coluna PS_IND_12_BIN\n",
            "0    589594\n",
            "1      5618\n",
            "Name: ps_ind_12_bin, dtype: int64\n",
            "*****************************************************************************\n"
          ]
        },
        {
          "output_type": "stream",
          "name": "stderr",
          "text": [
            "/usr/local/lib/python3.7/dist-packages/seaborn/_decorators.py:43: FutureWarning: Pass the following variable as a keyword arg: x. From version 0.12, the only valid positional argument will be `data`, and passing other arguments without an explicit keyword will result in an error or misinterpretation.\n",
            "  FutureWarning\n"
          ]
        },
        {
          "output_type": "execute_result",
          "data": {
            "text/plain": [
              "<matplotlib.axes._subplots.AxesSubplot at 0x7fc789332ad0>"
            ]
          },
          "metadata": {},
          "execution_count": 49
        },
        {
          "output_type": "display_data",
          "data": {
            "image/png": "[encoded data removed]",
            "text/plain": [
              "<Figure size 720x360 with 1 Axes>"
            ]
          },
          "metadata": {
            "needs_background": "light"
          }
        }
      ]
    },
    {
      "cell_type": "code",
      "metadata": {
        "id": "mvJ1K1z6C9wd",
        "outputId": "03ceecde-00c3-4c48-80da-ed09e3158107",
        "colab": {
          "base_uri": "https://localhost:8080/",
          "height": 1000
        }
      },
      "source": [
        "# Grupo 3: Index(['id', 'target', 'ps_ind_06_bin', 'ps_ind_07_bin', 'ps_ind_08_bin', 'ps_ind_09_bin', \n",
        "#                                 'ps_ind_10_bin', 'ps_ind_11_bin', 'ps_ind_12_bin', 'ps_ind_13_bin', 'ps_ind_16_bin')\n",
        "\n",
        "fig,ax = plt.subplots(3,4,figsize=(20,14),sharex='all')\n",
        "ax1,ax2,ax3,ax4,ax5,ax6,ax7,ax8,ax9,ax10,ax11,ax12 = ax.flatten()\n",
        "sns.countplot(df_ps_ind_bin['ps_ind_06_bin'],palette='rainbow',ax=ax1)\n",
        "sns.countplot(df_ps_ind_bin['ps_ind_07_bin'],palette='summer',ax=ax2)\n",
        "sns.countplot(df_ps_ind_bin['ps_ind_08_bin'],palette='gist_rainbow',ax=ax3)\n",
        "sns.countplot(df_ps_ind_bin['ps_ind_09_bin'],palette='summer',ax=ax4)\n",
        "sns.countplot(df_ps_ind_bin['ps_ind_10_bin'],palette='rainbow',ax=ax5)\n",
        "sns.countplot(df_ps_ind_bin['ps_ind_11_bin'],palette='gist_rainbow',ax=ax6)\n",
        "sns.countplot(df_ps_ind_bin['ps_ind_12_bin'],palette='coolwarm',ax=ax7)\n",
        "sns.countplot(df_ps_ind_bin['ps_ind_13_bin'],palette='gist_rainbow',ax=ax8)\n",
        "sns.countplot(df_ps_ind_bin['ps_ind_16_bin'],palette='rainbow',ax=ax9)\n",
        "sns.countplot(df_ps_ind_bin['ps_ind_17_bin'],palette='coolwarm',ax=ax10)\n",
        "sns.countplot(df_ps_ind_bin['ps_ind_18_bin'],palette='gist_rainbow',ax=ax11)\n",
        "sns.countplot(df_ps_ind_bin['ps_ind_18_bin'],palette='rainbow',ax=ax12)"
      ],
      "execution_count": null,
      "outputs": [
        {
          "output_type": "stream",
          "name": "stderr",
          "text": [
            "/usr/local/lib/python3.7/dist-packages/seaborn/_decorators.py:43: FutureWarning: Pass the following variable as a keyword arg: x. From version 0.12, the only valid positional argument will be `data`, and passing other arguments without an explicit keyword will result in an error or misinterpretation.\n",
            "  FutureWarning\n",
            "/usr/local/lib/python3.7/dist-packages/seaborn/_decorators.py:43: FutureWarning: Pass the following variable as a keyword arg: x. From version 0.12, the only valid positional argument will be `data`, and passing other arguments without an explicit keyword will result in an error or misinterpretation.\n",
            "  FutureWarning\n",
            "/usr/local/lib/python3.7/dist-packages/seaborn/_decorators.py:43: FutureWarning: Pass the following variable as a keyword arg: x. From version 0.12, the only valid positional argument will be `data`, and passing other arguments without an explicit keyword will result in an error or misinterpretation.\n",
            "  FutureWarning\n",
            "/usr/local/lib/python3.7/dist-packages/seaborn/_decorators.py:43: FutureWarning: Pass the following variable as a keyword arg: x. From version 0.12, the only valid positional argument will be `data`, and passing other arguments without an explicit keyword will result in an error or misinterpretation.\n",
            "  FutureWarning\n",
            "/usr/local/lib/python3.7/dist-packages/seaborn/_decorators.py:43: FutureWarning: Pass the following variable as a keyword arg: x. From version 0.12, the only valid positional argument will be `data`, and passing other arguments without an explicit keyword will result in an error or misinterpretation.\n",
            "  FutureWarning\n",
            "/usr/local/lib/python3.7/dist-packages/seaborn/_decorators.py:43: FutureWarning: Pass the following variable as a keyword arg: x. From version 0.12, the only valid positional argument will be `data`, and passing other arguments without an explicit keyword will result in an error or misinterpretation.\n",
            "  FutureWarning\n",
            "/usr/local/lib/python3.7/dist-packages/seaborn/_decorators.py:43: FutureWarning: Pass the following variable as a keyword arg: x. From version 0.12, the only valid positional argument will be `data`, and passing other arguments without an explicit keyword will result in an error or misinterpretation.\n",
            "  FutureWarning\n",
            "/usr/local/lib/python3.7/dist-packages/seaborn/_decorators.py:43: FutureWarning: Pass the following variable as a keyword arg: x. From version 0.12, the only valid positional argument will be `data`, and passing other arguments without an explicit keyword will result in an error or misinterpretation.\n",
            "  FutureWarning\n",
            "/usr/local/lib/python3.7/dist-packages/seaborn/_decorators.py:43: FutureWarning: Pass the following variable as a keyword arg: x. From version 0.12, the only valid positional argument will be `data`, and passing other arguments without an explicit keyword will result in an error or misinterpretation.\n",
            "  FutureWarning\n",
            "/usr/local/lib/python3.7/dist-packages/seaborn/_decorators.py:43: FutureWarning: Pass the following variable as a keyword arg: x. From version 0.12, the only valid positional argument will be `data`, and passing other arguments without an explicit keyword will result in an error or misinterpretation.\n",
            "  FutureWarning\n",
            "/usr/local/lib/python3.7/dist-packages/seaborn/_decorators.py:43: FutureWarning: Pass the following variable as a keyword arg: x. From version 0.12, the only valid positional argument will be `data`, and passing other arguments without an explicit keyword will result in an error or misinterpretation.\n",
            "  FutureWarning\n",
            "/usr/local/lib/python3.7/dist-packages/seaborn/_decorators.py:43: FutureWarning: Pass the following variable as a keyword arg: x. From version 0.12, the only valid positional argument will be `data`, and passing other arguments without an explicit keyword will result in an error or misinterpretation.\n",
            "  FutureWarning\n"
          ]
        },
        {
          "output_type": "execute_result",
          "data": {
            "text/plain": [
              "<matplotlib.axes._subplots.AxesSubplot at 0x7fc7a155dc50>"
            ]
          },
          "metadata": {},
          "execution_count": 26
        },
        {
          "output_type": "display_data",
          "data": {
            "image/png": "[encoded data removed]",
            "text/plain": [
              "<Figure size 1440x1008 with 12 Axes>"
            ]
          },
          "metadata": {
            "needs_background": "light"
          }
        }
      ]
    },
    {
      "cell_type": "markdown",
      "metadata": {
        "id": "XcFYju2u7jEP"
      },
      "source": [
        "#ANALISE DO RESULTADO - GRUPO 3:\n",
        "A maior parte dos gráficos são parecidas com o target, 0 e 1.  10, 11, 12 e 13 são a maioria das vezes 0 e por esse motivo podem indicar uma alta correlação.\n",
        "\n"
      ]
    },
    {
      "cell_type": "markdown",
      "metadata": {
        "id": "5XALr0hJ7PWM"
      },
      "source": [
        "##**GRUPO 4**"
      ]
    },
    {
      "cell_type": "code",
      "metadata": {
        "id": "ohuZNytO5Wuh",
        "colab": {
          "base_uri": "https://localhost:8080/",
          "height": 300
        },
        "outputId": "b7a60d79-7287-4423-ffd7-96acd8b42f02"
      },
      "source": [
        "df_ps_reg = df_train\n",
        "\n",
        "lista =  lista_ps_ind + lista_ps_ind_cat + lista_ps_ind_bin + lista_ps_car + lista_ps_car_cat + lista_ps_cal + lista_ps_cal_bin\n",
        "df_ps_reg = df_ps_reg.drop(lista, axis=1)\n",
        "\n",
        "df_ps_reg.describe()"
      ],
      "execution_count": null,
      "outputs": [
        {
          "output_type": "execute_result",
          "data": {
            "text/html": [
              "<div>\n",
              "<style scoped>\n",
              "    .dataframe tbody tr th:only-of-type {\n",
              "        vertical-align: middle;\n",
              "    }\n",
              "\n",
              "    .dataframe tbody tr th {\n",
              "        vertical-align: top;\n",
              "    }\n",
              "\n",
              "    .dataframe thead th {\n",
              "        text-align: right;\n",
              "    }\n",
              "</style>\n",
              "<table border=\"1\" class=\"dataframe\">\n",
              "  <thead>\n",
              "    <tr style=\"text-align: right;\">\n",
              "      <th></th>\n",
              "      <th>id</th>\n",
              "      <th>target</th>\n",
              "      <th>ps_reg_01</th>\n",
              "      <th>ps_reg_02</th>\n",
              "      <th>ps_reg_03</th>\n",
              "    </tr>\n",
              "  </thead>\n",
              "  <tbody>\n",
              "    <tr>\n",
              "      <th>count</th>\n",
              "      <td>5.952120e+05</td>\n",
              "      <td>595212.000000</td>\n",
              "      <td>595212.000000</td>\n",
              "      <td>595212.000000</td>\n",
              "      <td>595212.000000</td>\n",
              "    </tr>\n",
              "    <tr>\n",
              "      <th>mean</th>\n",
              "      <td>7.438036e+05</td>\n",
              "      <td>0.036448</td>\n",
              "      <td>0.610991</td>\n",
              "      <td>0.439184</td>\n",
              "      <td>0.551102</td>\n",
              "    </tr>\n",
              "    <tr>\n",
              "      <th>std</th>\n",
              "      <td>4.293678e+05</td>\n",
              "      <td>0.187401</td>\n",
              "      <td>0.287643</td>\n",
              "      <td>0.404264</td>\n",
              "      <td>0.793506</td>\n",
              "    </tr>\n",
              "    <tr>\n",
              "      <th>min</th>\n",
              "      <td>7.000000e+00</td>\n",
              "      <td>0.000000</td>\n",
              "      <td>0.000000</td>\n",
              "      <td>0.000000</td>\n",
              "      <td>-1.000000</td>\n",
              "    </tr>\n",
              "    <tr>\n",
              "      <th>25%</th>\n",
              "      <td>3.719915e+05</td>\n",
              "      <td>0.000000</td>\n",
              "      <td>0.400000</td>\n",
              "      <td>0.200000</td>\n",
              "      <td>0.525000</td>\n",
              "    </tr>\n",
              "    <tr>\n",
              "      <th>50%</th>\n",
              "      <td>7.435475e+05</td>\n",
              "      <td>0.000000</td>\n",
              "      <td>0.700000</td>\n",
              "      <td>0.300000</td>\n",
              "      <td>0.720677</td>\n",
              "    </tr>\n",
              "    <tr>\n",
              "      <th>75%</th>\n",
              "      <td>1.115549e+06</td>\n",
              "      <td>0.000000</td>\n",
              "      <td>0.900000</td>\n",
              "      <td>0.600000</td>\n",
              "      <td>1.000000</td>\n",
              "    </tr>\n",
              "    <tr>\n",
              "      <th>max</th>\n",
              "      <td>1.488027e+06</td>\n",
              "      <td>1.000000</td>\n",
              "      <td>0.900000</td>\n",
              "      <td>1.800000</td>\n",
              "      <td>4.037945</td>\n",
              "    </tr>\n",
              "  </tbody>\n",
              "</table>\n",
              "</div>"
            ],
            "text/plain": [
              "                 id         target      ps_reg_01      ps_reg_02      ps_reg_03\n",
              "count  5.952120e+05  595212.000000  595212.000000  595212.000000  595212.000000\n",
              "mean   7.438036e+05       0.036448       0.610991       0.439184       0.551102\n",
              "std    4.293678e+05       0.187401       0.287643       0.404264       0.793506\n",
              "min    7.000000e+00       0.000000       0.000000       0.000000      -1.000000\n",
              "25%    3.719915e+05       0.000000       0.400000       0.200000       0.525000\n",
              "50%    7.435475e+05       0.000000       0.700000       0.300000       0.720677\n",
              "75%    1.115549e+06       0.000000       0.900000       0.600000       1.000000\n",
              "max    1.488027e+06       1.000000       0.900000       1.800000       4.037945"
            ]
          },
          "metadata": {},
          "execution_count": 27
        }
      ]
    },
    {
      "cell_type": "code",
      "metadata": {
        "colab": {
          "base_uri": "https://localhost:8080/",
          "height": 609
        },
        "id": "4FhrmDMotAPF",
        "outputId": "283a2929-cae9-4a36-ad64-d165deeea905"
      },
      "source": [
        "df_ps_reg.drop('id', axis=1).plot.box()\n",
        "plt.figure(figsize=(6,6))\n",
        "plt.show()"
      ],
      "execution_count": null,
      "outputs": [
        {
          "output_type": "display_data",
          "data": {
            "image/png": "[encoded data removed]",
            "text/plain": [
              "<Figure size 360x720 with 1 Axes>"
            ]
          },
          "metadata": {
            "needs_background": "light"
          }
        },
        {
          "output_type": "display_data",
          "data": {
            "text/plain": [
              "<Figure size 432x432 with 0 Axes>"
            ]
          },
          "metadata": {}
        }
      ]
    },
    {
      "cell_type": "code",
      "metadata": {
        "colab": {
          "base_uri": "https://localhost:8080/",
          "height": 650
        },
        "id": "kJz7O9iv0uhr",
        "outputId": "c36d477d-53ce-423a-a0ad-8c25bb297b98"
      },
      "source": [
        "# Analisa o gráfico anteriores, vamos identificar os outliers pertencentes a coluna \"ps_reg_03\"\n",
        "\n",
        "qtd_outliers = df_ps_reg['ps_reg_03'].value_counts()\n",
        "\n",
        "print('Quantidade de registros por dimensão na coluna PS_REG_03')\n",
        "print(qtd_outliers)\n",
        "\n",
        "print(\"***************************************************************\")\n",
        "\n",
        "\n",
        "\n",
        "plt.figure(figsize=(5,5))\n",
        "sns.countplot(df_ps_reg['ps_reg_03'], palette=\"Set2\")"
      ],
      "execution_count": null,
      "outputs": [
        {
          "output_type": "stream",
          "name": "stdout",
          "text": [
            "Quantidade de registros por dimensão na coluna PS_REG_03\n",
            "-1.000000    107772\n",
            " 0.633936       664\n",
            " 0.602599       637\n",
            " 0.704894       627\n",
            " 0.587899       616\n",
            "              ...  \n",
            " 0.301040         1\n",
            " 1.409787         1\n",
            " 2.090155         1\n",
            " 1.772357         1\n",
            " 1.888452         1\n",
            "Name: ps_reg_03, Length: 5013, dtype: int64\n",
            "***************************************************************\n"
          ]
        },
        {
          "output_type": "stream",
          "name": "stderr",
          "text": [
            "/usr/local/lib/python3.7/dist-packages/seaborn/_decorators.py:43: FutureWarning: Pass the following variable as a keyword arg: x. From version 0.12, the only valid positional argument will be `data`, and passing other arguments without an explicit keyword will result in an error or misinterpretation.\n",
            "  FutureWarning\n"
          ]
        },
        {
          "output_type": "execute_result",
          "data": {
            "text/plain": [
              "<matplotlib.axes._subplots.AxesSubplot at 0x7fc7a1b65e50>"
            ]
          },
          "metadata": {},
          "execution_count": 29
        },
        {
          "output_type": "display_data",
          "data": {
            "image/png": "[encoded data removed]",
            "text/plain": [
              "<Figure size 360x360 with 1 Axes>"
            ]
          },
          "metadata": {
            "needs_background": "light"
          }
        }
      ]
    },
    {
      "cell_type": "code",
      "metadata": {
        "id": "EpqXgGZf-bgH",
        "colab": {
          "base_uri": "https://localhost:8080/",
          "height": 514
        },
        "outputId": "2b0a6aa5-b18b-4c51-b9b8-f4c3365ea441"
      },
      "source": [
        "# Grupo 4: Index(['id', 'target', 'ps_reg_01', 'ps_reg_02', 'ps_reg_03')\n",
        "\n",
        "fig,ax = plt.subplots(2,2,figsize=(15,5),sharex='all')\n",
        "ax1,ax2,ax3,ax4 = ax.flatten()\n",
        "sns.countplot(df_ps_reg['target'],palette='summer',ax=ax1)\n",
        "sns.countplot(df_ps_reg['ps_reg_01'],palette='rainbow',ax=ax1)\n",
        "sns.countplot(df_ps_reg['ps_reg_02'],palette='summer',ax=ax2)\n",
        "sns.countplot(df_ps_reg['ps_reg_03'],palette='gist_rainbow',ax=ax3)"
      ],
      "execution_count": null,
      "outputs": [
        {
          "output_type": "stream",
          "name": "stderr",
          "text": [
            "/usr/local/lib/python3.7/dist-packages/seaborn/_decorators.py:43: FutureWarning: Pass the following variable as a keyword arg: x. From version 0.12, the only valid positional argument will be `data`, and passing other arguments without an explicit keyword will result in an error or misinterpretation.\n",
            "  FutureWarning\n",
            "/usr/local/lib/python3.7/dist-packages/seaborn/_decorators.py:43: FutureWarning: Pass the following variable as a keyword arg: x. From version 0.12, the only valid positional argument will be `data`, and passing other arguments without an explicit keyword will result in an error or misinterpretation.\n",
            "  FutureWarning\n",
            "/usr/local/lib/python3.7/dist-packages/seaborn/_decorators.py:43: FutureWarning: Pass the following variable as a keyword arg: x. From version 0.12, the only valid positional argument will be `data`, and passing other arguments without an explicit keyword will result in an error or misinterpretation.\n",
            "  FutureWarning\n",
            "/usr/local/lib/python3.7/dist-packages/seaborn/_decorators.py:43: FutureWarning: Pass the following variable as a keyword arg: x. From version 0.12, the only valid positional argument will be `data`, and passing other arguments without an explicit keyword will result in an error or misinterpretation.\n",
            "  FutureWarning\n"
          ]
        },
        {
          "output_type": "execute_result",
          "data": {
            "text/plain": [
              "<matplotlib.axes._subplots.AxesSubplot at 0x7fc7a105ef10>"
            ]
          },
          "metadata": {},
          "execution_count": 30
        },
        {
          "output_type": "display_data",
          "data": {
            "image/png": "[encoded data removed]",
            "text/plain": [
              "<Figure size 1080x360 with 4 Axes>"
            ]
          },
          "metadata": {
            "needs_background": "light"
          }
        }
      ]
    },
    {
      "cell_type": "markdown",
      "metadata": {
        "id": "IrCxNF4o7m_9"
      },
      "source": [
        "#ANALISE DO RESULTADO - GRUPO 4:\n",
        "Quantidade muito grande de valores Nulos (-1). Os valores estão como 0, o que gera dificuldade na análise dos dados.\n",
        "Coluna reg 03 não será considerada pelo fato de ter muitos outliers e 18% de valores faltantes, o que pode impactar na análise.\n"
      ]
    },
    {
      "cell_type": "markdown",
      "metadata": {
        "id": "9bCMnuRf7TQs"
      },
      "source": [
        "##**GRUPO 5**"
      ]
    },
    {
      "cell_type": "code",
      "metadata": {
        "id": "hqwlZT8P56v7",
        "colab": {
          "base_uri": "https://localhost:8080/",
          "height": 300
        },
        "outputId": "62c44c95-b645-479e-8ea1-aa06f989f96e"
      },
      "source": [
        "df_ps_car = df_train\n",
        "\n",
        "lista =  lista_ps_ind + lista_ps_ind_cat + lista_ps_ind_bin + lista_ps_reg + lista_ps_car_cat + lista_ps_cal + lista_ps_cal_bin\n",
        "df_ps_car = df_ps_car.drop(lista, axis=1)\n",
        "\n",
        "df_ps_car.describe()"
      ],
      "execution_count": null,
      "outputs": [
        {
          "output_type": "execute_result",
          "data": {
            "text/html": [
              "<div>\n",
              "<style scoped>\n",
              "    .dataframe tbody tr th:only-of-type {\n",
              "        vertical-align: middle;\n",
              "    }\n",
              "\n",
              "    .dataframe tbody tr th {\n",
              "        vertical-align: top;\n",
              "    }\n",
              "\n",
              "    .dataframe thead th {\n",
              "        text-align: right;\n",
              "    }\n",
              "</style>\n",
              "<table border=\"1\" class=\"dataframe\">\n",
              "  <thead>\n",
              "    <tr style=\"text-align: right;\">\n",
              "      <th></th>\n",
              "      <th>id</th>\n",
              "      <th>target</th>\n",
              "      <th>ps_car_11</th>\n",
              "      <th>ps_car_12</th>\n",
              "      <th>ps_car_13</th>\n",
              "      <th>ps_car_14</th>\n",
              "      <th>ps_car_15</th>\n",
              "    </tr>\n",
              "  </thead>\n",
              "  <tbody>\n",
              "    <tr>\n",
              "      <th>count</th>\n",
              "      <td>5.952120e+05</td>\n",
              "      <td>595212.000000</td>\n",
              "      <td>595212.000000</td>\n",
              "      <td>595212.000000</td>\n",
              "      <td>595212.000000</td>\n",
              "      <td>595212.000000</td>\n",
              "      <td>595212.000000</td>\n",
              "    </tr>\n",
              "    <tr>\n",
              "      <th>mean</th>\n",
              "      <td>7.438036e+05</td>\n",
              "      <td>0.036448</td>\n",
              "      <td>2.346072</td>\n",
              "      <td>0.379945</td>\n",
              "      <td>0.813265</td>\n",
              "      <td>0.276256</td>\n",
              "      <td>3.065899</td>\n",
              "    </tr>\n",
              "    <tr>\n",
              "      <th>std</th>\n",
              "      <td>4.293678e+05</td>\n",
              "      <td>0.187401</td>\n",
              "      <td>0.832548</td>\n",
              "      <td>0.058327</td>\n",
              "      <td>0.224588</td>\n",
              "      <td>0.357154</td>\n",
              "      <td>0.731366</td>\n",
              "    </tr>\n",
              "    <tr>\n",
              "      <th>min</th>\n",
              "      <td>7.000000e+00</td>\n",
              "      <td>0.000000</td>\n",
              "      <td>-1.000000</td>\n",
              "      <td>-1.000000</td>\n",
              "      <td>0.250619</td>\n",
              "      <td>-1.000000</td>\n",
              "      <td>0.000000</td>\n",
              "    </tr>\n",
              "    <tr>\n",
              "      <th>25%</th>\n",
              "      <td>3.719915e+05</td>\n",
              "      <td>0.000000</td>\n",
              "      <td>2.000000</td>\n",
              "      <td>0.316228</td>\n",
              "      <td>0.670867</td>\n",
              "      <td>0.333167</td>\n",
              "      <td>2.828427</td>\n",
              "    </tr>\n",
              "    <tr>\n",
              "      <th>50%</th>\n",
              "      <td>7.435475e+05</td>\n",
              "      <td>0.000000</td>\n",
              "      <td>3.000000</td>\n",
              "      <td>0.374166</td>\n",
              "      <td>0.765811</td>\n",
              "      <td>0.368782</td>\n",
              "      <td>3.316625</td>\n",
              "    </tr>\n",
              "    <tr>\n",
              "      <th>75%</th>\n",
              "      <td>1.115549e+06</td>\n",
              "      <td>0.000000</td>\n",
              "      <td>3.000000</td>\n",
              "      <td>0.400000</td>\n",
              "      <td>0.906190</td>\n",
              "      <td>0.396485</td>\n",
              "      <td>3.605551</td>\n",
              "    </tr>\n",
              "    <tr>\n",
              "      <th>max</th>\n",
              "      <td>1.488027e+06</td>\n",
              "      <td>1.000000</td>\n",
              "      <td>3.000000</td>\n",
              "      <td>1.264911</td>\n",
              "      <td>3.720626</td>\n",
              "      <td>0.636396</td>\n",
              "      <td>3.741657</td>\n",
              "    </tr>\n",
              "  </tbody>\n",
              "</table>\n",
              "</div>"
            ],
            "text/plain": [
              "                 id         target  ...      ps_car_14      ps_car_15\n",
              "count  5.952120e+05  595212.000000  ...  595212.000000  595212.000000\n",
              "mean   7.438036e+05       0.036448  ...       0.276256       3.065899\n",
              "std    4.293678e+05       0.187401  ...       0.357154       0.731366\n",
              "min    7.000000e+00       0.000000  ...      -1.000000       0.000000\n",
              "25%    3.719915e+05       0.000000  ...       0.333167       2.828427\n",
              "50%    7.435475e+05       0.000000  ...       0.368782       3.316625\n",
              "75%    1.115549e+06       0.000000  ...       0.396485       3.605551\n",
              "max    1.488027e+06       1.000000  ...       0.636396       3.741657\n",
              "\n",
              "[8 rows x 7 columns]"
            ]
          },
          "metadata": {},
          "execution_count": 31
        }
      ]
    },
    {
      "cell_type": "code",
      "metadata": {
        "id": "0Wky_Fc6tH9F",
        "outputId": "41e9bec6-4a3c-426a-c64f-3af76c011ebe",
        "colab": {
          "base_uri": "https://localhost:8080/",
          "height": 609
        }
      },
      "source": [
        "df_ps_car.drop('id', axis=1).plot.box()"
      ],
      "execution_count": null,
      "outputs": [
        {
          "output_type": "execute_result",
          "data": {
            "text/plain": [
              "<matplotlib.axes._subplots.AxesSubplot at 0x7fc7a12098d0>"
            ]
          },
          "metadata": {},
          "execution_count": 32
        },
        {
          "output_type": "display_data",
          "data": {
            "image/png": "[encoded data removed]",
            "text/plain": [
              "<Figure size 360x720 with 1 Axes>"
            ]
          },
          "metadata": {
            "needs_background": "light"
          }
        }
      ]
    },
    {
      "cell_type": "code",
      "metadata": {
        "id": "KEM2DM535qCq",
        "outputId": "8271cb98-5e37-4c76-f1fa-5dbe55416232",
        "colab": {
          "base_uri": "https://localhost:8080/",
          "height": 546
        }
      },
      "source": [
        "# Analisa o gráfico anteriores, vamos identificar os outliers pertencentes a coluna \"ps_car_11\"\n",
        "\n",
        "qtd_outliers = df_ps_car['ps_car_11'].value_counts()\n",
        "\n",
        "print('Quantidade de registros por dimensão na coluna PS_CAR_11')\n",
        "print(qtd_outliers)\n",
        "\n",
        "print(\"***************************************************************\")\n",
        "\n",
        "\n",
        "\n",
        "plt.figure(figsize=(10,5))\n",
        "sns.countplot(df_ps_car['ps_car_11'], palette=\"Set2\")"
      ],
      "execution_count": null,
      "outputs": [
        {
          "output_type": "stream",
          "name": "stdout",
          "text": [
            "Quantidade de registros por dimensão na coluna PS_CAR_11\n",
            " 3    318919\n",
            " 2    189353\n",
            " 1     60952\n",
            " 0     25983\n",
            "-1         5\n",
            "Name: ps_car_11, dtype: int64\n",
            "***************************************************************\n"
          ]
        },
        {
          "output_type": "stream",
          "name": "stderr",
          "text": [
            "/usr/local/lib/python3.7/dist-packages/seaborn/_decorators.py:43: FutureWarning: Pass the following variable as a keyword arg: x. From version 0.12, the only valid positional argument will be `data`, and passing other arguments without an explicit keyword will result in an error or misinterpretation.\n",
            "  FutureWarning\n"
          ]
        },
        {
          "output_type": "execute_result",
          "data": {
            "text/plain": [
              "<matplotlib.axes._subplots.AxesSubplot at 0x7fc781934710>"
            ]
          },
          "metadata": {},
          "execution_count": 33
        },
        {
          "output_type": "display_data",
          "data": {
            "image/png": "[encoded data removed]",
            "text/plain": [
              "<Figure size 720x360 with 1 Axes>"
            ]
          },
          "metadata": {
            "needs_background": "light"
          }
        }
      ]
    },
    {
      "cell_type": "code",
      "metadata": {
        "id": "NkW7XIEmF-jm",
        "colab": {
          "base_uri": "https://localhost:8080/",
          "height": 720
        },
        "outputId": "ec3ba6f1-b23d-48ae-92ff-68aac9f8d2d2"
      },
      "source": [
        "# Analisa o gráfico anteriores, vamos identificar os outliers pertencentes a coluna \"ps_car_15\"\n",
        "\n",
        "qtd_outliers = df_ps_car['ps_car_15'].value_counts()\n",
        "\n",
        "print('Quantidade de registros por dimensão na coluna PS_CAR_15')\n",
        "print(qtd_outliers)\n",
        "\n",
        "print(\"***************************************************************\")\n",
        "\n",
        "\n",
        "\n",
        "plt.figure(figsize=(10,5))\n",
        "sns.countplot(df_ps_car['ps_car_15'], palette=\"Set2\")"
      ],
      "execution_count": null,
      "outputs": [
        {
          "output_type": "stream",
          "name": "stdout",
          "text": [
            "Quantidade de registros por dimensão na coluna PS_CAR_15\n",
            "3.605551    109765\n",
            "3.464102     77200\n",
            "3.316625     68737\n",
            "3.162278     63323\n",
            "3.741657     57757\n",
            "2.828427     48680\n",
            "3.000000     48537\n",
            "2.645751     30388\n",
            "2.449490     20445\n",
            "2.236068     19397\n",
            "0.000000     14186\n",
            "2.000000     12830\n",
            "1.732051     10744\n",
            "1.000000      6708\n",
            "1.414214      6515\n",
            "Name: ps_car_15, dtype: int64\n",
            "***************************************************************\n"
          ]
        },
        {
          "output_type": "stream",
          "name": "stderr",
          "text": [
            "/usr/local/lib/python3.7/dist-packages/seaborn/_decorators.py:43: FutureWarning: Pass the following variable as a keyword arg: x. From version 0.12, the only valid positional argument will be `data`, and passing other arguments without an explicit keyword will result in an error or misinterpretation.\n",
            "  FutureWarning\n"
          ]
        },
        {
          "output_type": "execute_result",
          "data": {
            "text/plain": [
              "<matplotlib.axes._subplots.AxesSubplot at 0x7fc784fffb90>"
            ]
          },
          "metadata": {},
          "execution_count": 34
        },
        {
          "output_type": "display_data",
          "data": {
            "image/png": "[encoded data removed]",
            "text/plain": [
              "<Figure size 720x360 with 1 Axes>"
            ]
          },
          "metadata": {
            "needs_background": "light"
          }
        }
      ]
    },
    {
      "cell_type": "code",
      "metadata": {
        "id": "TixvE0UiDSsw",
        "colab": {
          "base_uri": "https://localhost:8080/",
          "height": 584
        },
        "outputId": "a0066b58-0d77-493d-e21c-1a8ce2162ac5"
      },
      "source": [
        "# Grupo 5: Index(['id', 'target', 'ps_car_11','ps_car_12', 'ps_car_13', 'ps_car_14', 'ps_car_15')\n",
        "\n",
        "fig,ax = plt.subplots(2,3,figsize=(15,5),sharex='all')\n",
        "ax1,ax2,ax3,ax4,ax5,ax6 = ax.flatten()\n",
        "sns.countplot(df_ps_car['target'],palette='summer',ax=ax1)\n",
        "sns.countplot(df_ps_car['ps_car_11'],palette='rainbow',ax=ax2)\n",
        "sns.countplot(df_ps_car['ps_car_12'],palette='summer',ax=ax3)\n",
        "sns.countplot(df_ps_car['ps_car_13'],palette='gist_rainbow',ax=ax4)\n",
        "sns.countplot(df_ps_car['ps_car_14'],palette='gist_rainbow',ax=ax5)\n",
        "sns.countplot(df_ps_car['ps_car_15'],palette='gist_rainbow',ax=ax6)"
      ],
      "execution_count": null,
      "outputs": [
        {
          "output_type": "stream",
          "name": "stderr",
          "text": [
            "/usr/local/lib/python3.7/dist-packages/seaborn/_decorators.py:43: FutureWarning: Pass the following variable as a keyword arg: x. From version 0.12, the only valid positional argument will be `data`, and passing other arguments without an explicit keyword will result in an error or misinterpretation.\n",
            "  FutureWarning\n",
            "/usr/local/lib/python3.7/dist-packages/seaborn/_decorators.py:43: FutureWarning: Pass the following variable as a keyword arg: x. From version 0.12, the only valid positional argument will be `data`, and passing other arguments without an explicit keyword will result in an error or misinterpretation.\n",
            "  FutureWarning\n",
            "/usr/local/lib/python3.7/dist-packages/seaborn/_decorators.py:43: FutureWarning: Pass the following variable as a keyword arg: x. From version 0.12, the only valid positional argument will be `data`, and passing other arguments without an explicit keyword will result in an error or misinterpretation.\n",
            "  FutureWarning\n",
            "/usr/local/lib/python3.7/dist-packages/seaborn/_decorators.py:43: FutureWarning: Pass the following variable as a keyword arg: x. From version 0.12, the only valid positional argument will be `data`, and passing other arguments without an explicit keyword will result in an error or misinterpretation.\n",
            "  FutureWarning\n",
            "/usr/local/lib/python3.7/dist-packages/seaborn/_decorators.py:43: FutureWarning: Pass the following variable as a keyword arg: x. From version 0.12, the only valid positional argument will be `data`, and passing other arguments without an explicit keyword will result in an error or misinterpretation.\n",
            "  FutureWarning\n",
            "/usr/local/lib/python3.7/dist-packages/seaborn/_decorators.py:43: FutureWarning: Pass the following variable as a keyword arg: x. From version 0.12, the only valid positional argument will be `data`, and passing other arguments without an explicit keyword will result in an error or misinterpretation.\n",
            "  FutureWarning\n"
          ]
        },
        {
          "output_type": "execute_result",
          "data": {
            "text/plain": [
              "<matplotlib.axes._subplots.AxesSubplot at 0x7fc783df1510>"
            ]
          },
          "metadata": {},
          "execution_count": 35
        },
        {
          "output_type": "display_data",
          "data": {
            "image/png": "[encoded data removed]",
            "text/plain": [
              "<Figure size 1080x360 with 6 Axes>"
            ]
          },
          "metadata": {
            "needs_background": "light"
          }
        }
      ]
    },
    {
      "cell_type": "markdown",
      "metadata": {
        "id": "Zig4QFiO7tQ2"
      },
      "source": [
        "#ANALISE DO RESULTADO - GRUPO 5:"
      ]
    },
    {
      "cell_type": "markdown",
      "metadata": {
        "id": "TIkG1FrgyE98"
      },
      "source": [
        "Neste grupo, os recursos parecem ser continuos, com excessão do ps_car_11, que possui muitas categorias e a variável 15, que\n",
        " traz uma discrepância de valores, portanto serão desconsiderados da análise inicial.\n"
      ]
    },
    {
      "cell_type": "markdown",
      "metadata": {
        "id": "N6zCDYwU7YEB"
      },
      "source": [
        "##**GRUPO 6**"
      ]
    },
    {
      "cell_type": "code",
      "metadata": {
        "id": "X3y6fhPE6P_n",
        "colab": {
          "base_uri": "https://localhost:8080/",
          "height": 320
        },
        "outputId": "ff6f853f-90f8-4f38-8753-ecf1488ea3b0"
      },
      "source": [
        "df_ps_car_cat = df_train\n",
        "\n",
        "lista =  lista_ps_ind + lista_ps_ind_cat + lista_ps_ind_bin + lista_ps_reg + lista_ps_car + lista_ps_cal + lista_ps_cal_bin\n",
        "df_ps_car_cat = df_ps_car_cat.drop(lista, axis=1)\n",
        "\n",
        "df_ps_car_cat.describe()"
      ],
      "execution_count": null,
      "outputs": [
        {
          "output_type": "execute_result",
          "data": {
            "text/html": [
              "<div>\n",
              "<style scoped>\n",
              "    .dataframe tbody tr th:only-of-type {\n",
              "        vertical-align: middle;\n",
              "    }\n",
              "\n",
              "    .dataframe tbody tr th {\n",
              "        vertical-align: top;\n",
              "    }\n",
              "\n",
              "    .dataframe thead th {\n",
              "        text-align: right;\n",
              "    }\n",
              "</style>\n",
              "<table border=\"1\" class=\"dataframe\">\n",
              "  <thead>\n",
              "    <tr style=\"text-align: right;\">\n",
              "      <th></th>\n",
              "      <th>id</th>\n",
              "      <th>target</th>\n",
              "      <th>ps_car_01_cat</th>\n",
              "      <th>ps_car_02_cat</th>\n",
              "      <th>ps_car_03_cat</th>\n",
              "      <th>ps_car_04_cat</th>\n",
              "      <th>ps_car_05_cat</th>\n",
              "      <th>ps_car_06_cat</th>\n",
              "      <th>ps_car_07_cat</th>\n",
              "      <th>ps_car_08_cat</th>\n",
              "      <th>ps_car_09_cat</th>\n",
              "      <th>ps_car_10_cat</th>\n",
              "      <th>ps_car_11_cat</th>\n",
              "    </tr>\n",
              "  </thead>\n",
              "  <tbody>\n",
              "    <tr>\n",
              "      <th>count</th>\n",
              "      <td>5.952120e+05</td>\n",
              "      <td>595212.000000</td>\n",
              "      <td>595212.000000</td>\n",
              "      <td>595212.000000</td>\n",
              "      <td>595212.000000</td>\n",
              "      <td>595212.000000</td>\n",
              "      <td>595212.000000</td>\n",
              "      <td>595212.000000</td>\n",
              "      <td>595212.000000</td>\n",
              "      <td>595212.000000</td>\n",
              "      <td>595212.000000</td>\n",
              "      <td>595212.000000</td>\n",
              "      <td>595212.000000</td>\n",
              "    </tr>\n",
              "    <tr>\n",
              "      <th>mean</th>\n",
              "      <td>7.438036e+05</td>\n",
              "      <td>0.036448</td>\n",
              "      <td>8.295933</td>\n",
              "      <td>0.829931</td>\n",
              "      <td>-0.504899</td>\n",
              "      <td>0.725192</td>\n",
              "      <td>-0.157732</td>\n",
              "      <td>6.555340</td>\n",
              "      <td>0.910027</td>\n",
              "      <td>0.832080</td>\n",
              "      <td>1.328890</td>\n",
              "      <td>0.992136</td>\n",
              "      <td>62.215674</td>\n",
              "    </tr>\n",
              "    <tr>\n",
              "      <th>std</th>\n",
              "      <td>4.293678e+05</td>\n",
              "      <td>0.187401</td>\n",
              "      <td>2.508270</td>\n",
              "      <td>0.375716</td>\n",
              "      <td>0.788654</td>\n",
              "      <td>2.153463</td>\n",
              "      <td>0.844417</td>\n",
              "      <td>5.501445</td>\n",
              "      <td>0.347106</td>\n",
              "      <td>0.373796</td>\n",
              "      <td>0.978747</td>\n",
              "      <td>0.091619</td>\n",
              "      <td>33.012455</td>\n",
              "    </tr>\n",
              "    <tr>\n",
              "      <th>min</th>\n",
              "      <td>7.000000e+00</td>\n",
              "      <td>0.000000</td>\n",
              "      <td>-1.000000</td>\n",
              "      <td>-1.000000</td>\n",
              "      <td>-1.000000</td>\n",
              "      <td>0.000000</td>\n",
              "      <td>-1.000000</td>\n",
              "      <td>0.000000</td>\n",
              "      <td>-1.000000</td>\n",
              "      <td>0.000000</td>\n",
              "      <td>-1.000000</td>\n",
              "      <td>0.000000</td>\n",
              "      <td>1.000000</td>\n",
              "    </tr>\n",
              "    <tr>\n",
              "      <th>25%</th>\n",
              "      <td>3.719915e+05</td>\n",
              "      <td>0.000000</td>\n",
              "      <td>7.000000</td>\n",
              "      <td>1.000000</td>\n",
              "      <td>-1.000000</td>\n",
              "      <td>0.000000</td>\n",
              "      <td>-1.000000</td>\n",
              "      <td>1.000000</td>\n",
              "      <td>1.000000</td>\n",
              "      <td>1.000000</td>\n",
              "      <td>0.000000</td>\n",
              "      <td>1.000000</td>\n",
              "      <td>32.000000</td>\n",
              "    </tr>\n",
              "    <tr>\n",
              "      <th>50%</th>\n",
              "      <td>7.435475e+05</td>\n",
              "      <td>0.000000</td>\n",
              "      <td>7.000000</td>\n",
              "      <td>1.000000</td>\n",
              "      <td>-1.000000</td>\n",
              "      <td>0.000000</td>\n",
              "      <td>0.000000</td>\n",
              "      <td>7.000000</td>\n",
              "      <td>1.000000</td>\n",
              "      <td>1.000000</td>\n",
              "      <td>2.000000</td>\n",
              "      <td>1.000000</td>\n",
              "      <td>65.000000</td>\n",
              "    </tr>\n",
              "    <tr>\n",
              "      <th>75%</th>\n",
              "      <td>1.115549e+06</td>\n",
              "      <td>0.000000</td>\n",
              "      <td>11.000000</td>\n",
              "      <td>1.000000</td>\n",
              "      <td>0.000000</td>\n",
              "      <td>0.000000</td>\n",
              "      <td>1.000000</td>\n",
              "      <td>11.000000</td>\n",
              "      <td>1.000000</td>\n",
              "      <td>1.000000</td>\n",
              "      <td>2.000000</td>\n",
              "      <td>1.000000</td>\n",
              "      <td>93.000000</td>\n",
              "    </tr>\n",
              "    <tr>\n",
              "      <th>max</th>\n",
              "      <td>1.488027e+06</td>\n",
              "      <td>1.000000</td>\n",
              "      <td>11.000000</td>\n",
              "      <td>1.000000</td>\n",
              "      <td>1.000000</td>\n",
              "      <td>9.000000</td>\n",
              "      <td>1.000000</td>\n",
              "      <td>17.000000</td>\n",
              "      <td>1.000000</td>\n",
              "      <td>1.000000</td>\n",
              "      <td>4.000000</td>\n",
              "      <td>2.000000</td>\n",
              "      <td>104.000000</td>\n",
              "    </tr>\n",
              "  </tbody>\n",
              "</table>\n",
              "</div>"
            ],
            "text/plain": [
              "                 id         target  ...  ps_car_10_cat  ps_car_11_cat\n",
              "count  5.952120e+05  595212.000000  ...  595212.000000  595212.000000\n",
              "mean   7.438036e+05       0.036448  ...       0.992136      62.215674\n",
              "std    4.293678e+05       0.187401  ...       0.091619      33.012455\n",
              "min    7.000000e+00       0.000000  ...       0.000000       1.000000\n",
              "25%    3.719915e+05       0.000000  ...       1.000000      32.000000\n",
              "50%    7.435475e+05       0.000000  ...       1.000000      65.000000\n",
              "75%    1.115549e+06       0.000000  ...       1.000000      93.000000\n",
              "max    1.488027e+06       1.000000  ...       2.000000     104.000000\n",
              "\n",
              "[8 rows x 13 columns]"
            ]
          },
          "metadata": {},
          "execution_count": 36
        }
      ]
    },
    {
      "cell_type": "code",
      "metadata": {
        "colab": {
          "base_uri": "https://localhost:8080/",
          "height": 609
        },
        "id": "PRL7RLogtPFj",
        "outputId": "9bcab6e1-f73e-4603-a87a-08dbbc813f14"
      },
      "source": [
        "df_ps_car_cat.drop('id', axis=1).plot.box()"
      ],
      "execution_count": null,
      "outputs": [
        {
          "output_type": "execute_result",
          "data": {
            "text/plain": [
              "<matplotlib.axes._subplots.AxesSubplot at 0x7fc77e14e150>"
            ]
          },
          "metadata": {},
          "execution_count": 37
        },
        {
          "output_type": "display_data",
          "data": {
            "image/png": "[encoded data removed]",
            "text/plain": [
              "<Figure size 360x720 with 1 Axes>"
            ]
          },
          "metadata": {
            "needs_background": "light"
          }
        }
      ]
    },
    {
      "cell_type": "markdown",
      "metadata": {
        "id": "EaY5f1RQttyD"
      },
      "source": [
        "Possível ver que a coluna com valores totalmente fora do padrão das demais é a \"ps_car_11_cat\", que possui valores listados de \"0\" à \"100\""
      ]
    },
    {
      "cell_type": "code",
      "metadata": {
        "id": "surs8zo58vVT",
        "colab": {
          "base_uri": "https://localhost:8080/",
          "height": 650
        },
        "outputId": "3fda0943-6e94-4a77-bea1-dbb1474e8a70"
      },
      "source": [
        "# Analisa o gráfico anteriores, vamos identificar os outliers pertencentes a coluna \"ps_car_11\"\n",
        "\n",
        "qtd_outliers = df_ps_car_cat['ps_car_11_cat'].value_counts()\n",
        "\n",
        "print('Quantidade de registros por dimensão na coluna PS_CAR_11_CAT')\n",
        "print(qtd_outliers)\n",
        "\n",
        "print(\"***************************************************************\")\n",
        "\n",
        "\n",
        "\n",
        "plt.figure(figsize=(10,5))\n",
        "sns.countplot(df_ps_car_cat['ps_car_11_cat'], palette=\"Set2\")"
      ],
      "execution_count": null,
      "outputs": [
        {
          "output_type": "stream",
          "name": "stdout",
          "text": [
            "Quantidade de registros por dimensão na coluna PS_CAR_11_CAT\n",
            "104    85083\n",
            "103    24262\n",
            "64     22278\n",
            "87     17106\n",
            "32     12578\n",
            "       ...  \n",
            "58      1464\n",
            "81      1433\n",
            "56      1272\n",
            "18      1233\n",
            "63      1103\n",
            "Name: ps_car_11_cat, Length: 104, dtype: int64\n",
            "***************************************************************\n"
          ]
        },
        {
          "output_type": "stream",
          "name": "stderr",
          "text": [
            "/usr/local/lib/python3.7/dist-packages/seaborn/_decorators.py:43: FutureWarning: Pass the following variable as a keyword arg: x. From version 0.12, the only valid positional argument will be `data`, and passing other arguments without an explicit keyword will result in an error or misinterpretation.\n",
            "  FutureWarning\n"
          ]
        },
        {
          "output_type": "execute_result",
          "data": {
            "text/plain": [
              "<matplotlib.axes._subplots.AxesSubplot at 0x7fc784e86910>"
            ]
          },
          "metadata": {},
          "execution_count": 38
        },
        {
          "output_type": "display_data",
          "data": {
            "image/png": "[encoded data removed]",
            "text/plain": [
              "<Figure size 720x360 with 1 Axes>"
            ]
          },
          "metadata": {
            "needs_background": "light"
          }
        }
      ]
    },
    {
      "cell_type": "code",
      "metadata": {
        "id": "7JxvCr1fJ1cX",
        "colab": {
          "base_uri": "https://localhost:8080/",
          "height": 1000
        },
        "outputId": "78c58b10-c0c5-473e-cc02-02a2f585794f"
      },
      "source": [
        "# Grupo 6: Index('id', 'target','ps_car_01_cat', 'ps_car_02_cat', 'ps_car_03_cat', 'ps_car_04_cat','ps_car_05_cat', 'ps_car_06_cat', 'ps_car_07_cat', 'ps_car_08_cat','ps_car_09_cat', 'ps_car_10_cat', 'ps_car_11_cat')\n",
        "\n",
        "fig,ax = plt.subplots(3,4,figsize=(20,14),sharex='all')\n",
        "ax1,ax2,ax3,ax4,ax5,ax6,ax7,ax8,ax9,ax10,ax11,ax12 = ax.flatten()\n",
        "sns.countplot(df_ps_car_cat['target'],palette='rainbow',ax=ax1)\n",
        "sns.countplot(df_ps_car_cat['ps_car_01_cat'],palette='summer',ax=ax2)\n",
        "sns.countplot(df_ps_car_cat['ps_car_02_cat'],palette='gist_rainbow',ax=ax3)\n",
        "sns.countplot(df_ps_car_cat['ps_car_03_cat'],palette='summer',ax=ax4)\n",
        "sns.countplot(df_ps_car_cat['ps_car_04_cat'],palette='rainbow',ax=ax5)\n",
        "sns.countplot(df_ps_car_cat['ps_car_05_cat'],palette='gist_rainbow',ax=ax6)\n",
        "sns.countplot(df_ps_car_cat['ps_car_06_cat'],palette='coolwarm',ax=ax7)\n",
        "sns.countplot(df_ps_car_cat['ps_car_07_cat'],palette='gist_rainbow',ax=ax8)\n",
        "sns.countplot(df_ps_car_cat['ps_car_08_cat'],palette='rainbow',ax=ax9)\n",
        "sns.countplot(df_ps_car_cat['ps_car_09_cat'],palette='coolwarm',ax=ax10)\n",
        "sns.countplot(df_ps_car_cat['ps_car_10_cat'],palette='gist_rainbow',ax=ax11)\n",
        "sns.countplot(df_ps_car_cat['ps_car_11_cat'],palette='rainbow',ax=ax12)"
      ],
      "execution_count": null,
      "outputs": [
        {
          "output_type": "stream",
          "name": "stderr",
          "text": [
            "/usr/local/lib/python3.7/dist-packages/seaborn/_decorators.py:43: FutureWarning: Pass the following variable as a keyword arg: x. From version 0.12, the only valid positional argument will be `data`, and passing other arguments without an explicit keyword will result in an error or misinterpretation.\n",
            "  FutureWarning\n",
            "/usr/local/lib/python3.7/dist-packages/seaborn/_decorators.py:43: FutureWarning: Pass the following variable as a keyword arg: x. From version 0.12, the only valid positional argument will be `data`, and passing other arguments without an explicit keyword will result in an error or misinterpretation.\n",
            "  FutureWarning\n",
            "/usr/local/lib/python3.7/dist-packages/seaborn/_decorators.py:43: FutureWarning: Pass the following variable as a keyword arg: x. From version 0.12, the only valid positional argument will be `data`, and passing other arguments without an explicit keyword will result in an error or misinterpretation.\n",
            "  FutureWarning\n",
            "/usr/local/lib/python3.7/dist-packages/seaborn/_decorators.py:43: FutureWarning: Pass the following variable as a keyword arg: x. From version 0.12, the only valid positional argument will be `data`, and passing other arguments without an explicit keyword will result in an error or misinterpretation.\n",
            "  FutureWarning\n",
            "/usr/local/lib/python3.7/dist-packages/seaborn/_decorators.py:43: FutureWarning: Pass the following variable as a keyword arg: x. From version 0.12, the only valid positional argument will be `data`, and passing other arguments without an explicit keyword will result in an error or misinterpretation.\n",
            "  FutureWarning\n",
            "/usr/local/lib/python3.7/dist-packages/seaborn/_decorators.py:43: FutureWarning: Pass the following variable as a keyword arg: x. From version 0.12, the only valid positional argument will be `data`, and passing other arguments without an explicit keyword will result in an error or misinterpretation.\n",
            "  FutureWarning\n",
            "/usr/local/lib/python3.7/dist-packages/seaborn/_decorators.py:43: FutureWarning: Pass the following variable as a keyword arg: x. From version 0.12, the only valid positional argument will be `data`, and passing other arguments without an explicit keyword will result in an error or misinterpretation.\n",
            "  FutureWarning\n",
            "/usr/local/lib/python3.7/dist-packages/seaborn/_decorators.py:43: FutureWarning: Pass the following variable as a keyword arg: x. From version 0.12, the only valid positional argument will be `data`, and passing other arguments without an explicit keyword will result in an error or misinterpretation.\n",
            "  FutureWarning\n",
            "/usr/local/lib/python3.7/dist-packages/seaborn/_decorators.py:43: FutureWarning: Pass the following variable as a keyword arg: x. From version 0.12, the only valid positional argument will be `data`, and passing other arguments without an explicit keyword will result in an error or misinterpretation.\n",
            "  FutureWarning\n",
            "/usr/local/lib/python3.7/dist-packages/seaborn/_decorators.py:43: FutureWarning: Pass the following variable as a keyword arg: x. From version 0.12, the only valid positional argument will be `data`, and passing other arguments without an explicit keyword will result in an error or misinterpretation.\n",
            "  FutureWarning\n",
            "/usr/local/lib/python3.7/dist-packages/seaborn/_decorators.py:43: FutureWarning: Pass the following variable as a keyword arg: x. From version 0.12, the only valid positional argument will be `data`, and passing other arguments without an explicit keyword will result in an error or misinterpretation.\n",
            "  FutureWarning\n",
            "/usr/local/lib/python3.7/dist-packages/seaborn/_decorators.py:43: FutureWarning: Pass the following variable as a keyword arg: x. From version 0.12, the only valid positional argument will be `data`, and passing other arguments without an explicit keyword will result in an error or misinterpretation.\n",
            "  FutureWarning\n"
          ]
        },
        {
          "output_type": "execute_result",
          "data": {
            "text/plain": [
              "<matplotlib.axes._subplots.AxesSubplot at 0x7fc77db49410>"
            ]
          },
          "metadata": {},
          "execution_count": 39
        },
        {
          "output_type": "display_data",
          "data": {
            "image/png": "[encoded data removed]",
            "text/plain": [
              "<Figure size 1440x1008 with 12 Axes>"
            ]
          },
          "metadata": {
            "needs_background": "light"
          }
        }
      ]
    },
    {
      "cell_type": "markdown",
      "metadata": {
        "id": "7Rna_B2q7wcR"
      },
      "source": [
        "#ANALISE DO RESULTADO - GRUPO 6:"
      ]
    },
    {
      "cell_type": "markdown",
      "source": [
        "Percebe-se que o \"ps_car_11_cat\" possui valores discrepantes e que seria melhor retira-lo ou fazer analise separado (fazer outra box plot sem o \"ps_car_11_cat\"). Verifica-se a maior presença de outliers nas outras variaveis. Atraves dos graficos nota-se uma distribuição de observações mais a esquerda. Verifica-se que o \"ps_car_03_cat\" possui em media 70% dos dados são ausentes (-1), o que possivelmente justifica sua retirada. O \"ps_car_05_cat\" tambem possui um numero expressivo de dados ausentes."
      ],
      "metadata": {
        "id": "bwwTHVo-_-zz"
      }
    },
    {
      "cell_type": "markdown",
      "metadata": {
        "id": "hAQu0kWk7bKy"
      },
      "source": [
        "##**GRUPO 7**"
      ]
    },
    {
      "cell_type": "code",
      "metadata": {
        "id": "_lnCWz9k6jD7",
        "colab": {
          "base_uri": "https://localhost:8080/",
          "height": 320
        },
        "outputId": "a8ccc3b9-22eb-4bc2-a881-03fa61d0a6a1"
      },
      "source": [
        "df_ps_cal = df_train\n",
        "\n",
        "lista =  lista_ps_ind + lista_ps_ind_cat + lista_ps_ind_bin + lista_ps_reg + lista_ps_car + lista_ps_car_cat + lista_ps_cal_bin\n",
        "df_ps_cal = df_ps_cal.drop(lista, axis=1)\n",
        "\n",
        "df_ps_cal.describe()"
      ],
      "execution_count": null,
      "outputs": [
        {
          "output_type": "execute_result",
          "data": {
            "text/html": [
              "<div>\n",
              "<style scoped>\n",
              "    .dataframe tbody tr th:only-of-type {\n",
              "        vertical-align: middle;\n",
              "    }\n",
              "\n",
              "    .dataframe tbody tr th {\n",
              "        vertical-align: top;\n",
              "    }\n",
              "\n",
              "    .dataframe thead th {\n",
              "        text-align: right;\n",
              "    }\n",
              "</style>\n",
              "<table border=\"1\" class=\"dataframe\">\n",
              "  <thead>\n",
              "    <tr style=\"text-align: right;\">\n",
              "      <th></th>\n",
              "      <th>id</th>\n",
              "      <th>target</th>\n",
              "      <th>ps_calc_01</th>\n",
              "      <th>ps_calc_02</th>\n",
              "      <th>ps_calc_03</th>\n",
              "      <th>ps_calc_04</th>\n",
              "      <th>ps_calc_05</th>\n",
              "      <th>ps_calc_06</th>\n",
              "      <th>ps_calc_07</th>\n",
              "      <th>ps_calc_08</th>\n",
              "      <th>ps_calc_09</th>\n",
              "      <th>ps_calc_10</th>\n",
              "      <th>ps_calc_11</th>\n",
              "      <th>ps_calc_12</th>\n",
              "      <th>ps_calc_13</th>\n",
              "      <th>ps_calc_14</th>\n",
              "    </tr>\n",
              "  </thead>\n",
              "  <tbody>\n",
              "    <tr>\n",
              "      <th>count</th>\n",
              "      <td>5.952120e+05</td>\n",
              "      <td>595212.000000</td>\n",
              "      <td>595212.000000</td>\n",
              "      <td>595212.000000</td>\n",
              "      <td>595212.000000</td>\n",
              "      <td>595212.000000</td>\n",
              "      <td>595212.000000</td>\n",
              "      <td>595212.000000</td>\n",
              "      <td>595212.000000</td>\n",
              "      <td>595212.000000</td>\n",
              "      <td>595212.000000</td>\n",
              "      <td>595212.000000</td>\n",
              "      <td>595212.000000</td>\n",
              "      <td>595212.000000</td>\n",
              "      <td>595212.000000</td>\n",
              "      <td>595212.000000</td>\n",
              "    </tr>\n",
              "    <tr>\n",
              "      <th>mean</th>\n",
              "      <td>7.438036e+05</td>\n",
              "      <td>0.036448</td>\n",
              "      <td>0.449756</td>\n",
              "      <td>0.449589</td>\n",
              "      <td>0.449849</td>\n",
              "      <td>2.372081</td>\n",
              "      <td>1.885886</td>\n",
              "      <td>7.689445</td>\n",
              "      <td>3.005823</td>\n",
              "      <td>9.225904</td>\n",
              "      <td>2.339034</td>\n",
              "      <td>8.433590</td>\n",
              "      <td>5.441382</td>\n",
              "      <td>1.441918</td>\n",
              "      <td>2.872288</td>\n",
              "      <td>7.539026</td>\n",
              "    </tr>\n",
              "    <tr>\n",
              "      <th>std</th>\n",
              "      <td>4.293678e+05</td>\n",
              "      <td>0.187401</td>\n",
              "      <td>0.287198</td>\n",
              "      <td>0.286893</td>\n",
              "      <td>0.287153</td>\n",
              "      <td>1.117219</td>\n",
              "      <td>1.134927</td>\n",
              "      <td>1.334312</td>\n",
              "      <td>1.414564</td>\n",
              "      <td>1.459672</td>\n",
              "      <td>1.246949</td>\n",
              "      <td>2.904597</td>\n",
              "      <td>2.332871</td>\n",
              "      <td>1.202963</td>\n",
              "      <td>1.694887</td>\n",
              "      <td>2.746652</td>\n",
              "    </tr>\n",
              "    <tr>\n",
              "      <th>min</th>\n",
              "      <td>7.000000e+00</td>\n",
              "      <td>0.000000</td>\n",
              "      <td>0.000000</td>\n",
              "      <td>0.000000</td>\n",
              "      <td>0.000000</td>\n",
              "      <td>0.000000</td>\n",
              "      <td>0.000000</td>\n",
              "      <td>0.000000</td>\n",
              "      <td>0.000000</td>\n",
              "      <td>2.000000</td>\n",
              "      <td>0.000000</td>\n",
              "      <td>0.000000</td>\n",
              "      <td>0.000000</td>\n",
              "      <td>0.000000</td>\n",
              "      <td>0.000000</td>\n",
              "      <td>0.000000</td>\n",
              "    </tr>\n",
              "    <tr>\n",
              "      <th>25%</th>\n",
              "      <td>3.719915e+05</td>\n",
              "      <td>0.000000</td>\n",
              "      <td>0.200000</td>\n",
              "      <td>0.200000</td>\n",
              "      <td>0.200000</td>\n",
              "      <td>2.000000</td>\n",
              "      <td>1.000000</td>\n",
              "      <td>7.000000</td>\n",
              "      <td>2.000000</td>\n",
              "      <td>8.000000</td>\n",
              "      <td>1.000000</td>\n",
              "      <td>6.000000</td>\n",
              "      <td>4.000000</td>\n",
              "      <td>1.000000</td>\n",
              "      <td>2.000000</td>\n",
              "      <td>6.000000</td>\n",
              "    </tr>\n",
              "    <tr>\n",
              "      <th>50%</th>\n",
              "      <td>7.435475e+05</td>\n",
              "      <td>0.000000</td>\n",
              "      <td>0.500000</td>\n",
              "      <td>0.400000</td>\n",
              "      <td>0.500000</td>\n",
              "      <td>2.000000</td>\n",
              "      <td>2.000000</td>\n",
              "      <td>8.000000</td>\n",
              "      <td>3.000000</td>\n",
              "      <td>9.000000</td>\n",
              "      <td>2.000000</td>\n",
              "      <td>8.000000</td>\n",
              "      <td>5.000000</td>\n",
              "      <td>1.000000</td>\n",
              "      <td>3.000000</td>\n",
              "      <td>7.000000</td>\n",
              "    </tr>\n",
              "    <tr>\n",
              "      <th>75%</th>\n",
              "      <td>1.115549e+06</td>\n",
              "      <td>0.000000</td>\n",
              "      <td>0.700000</td>\n",
              "      <td>0.700000</td>\n",
              "      <td>0.700000</td>\n",
              "      <td>3.000000</td>\n",
              "      <td>3.000000</td>\n",
              "      <td>9.000000</td>\n",
              "      <td>4.000000</td>\n",
              "      <td>10.000000</td>\n",
              "      <td>3.000000</td>\n",
              "      <td>10.000000</td>\n",
              "      <td>7.000000</td>\n",
              "      <td>2.000000</td>\n",
              "      <td>4.000000</td>\n",
              "      <td>9.000000</td>\n",
              "    </tr>\n",
              "    <tr>\n",
              "      <th>max</th>\n",
              "      <td>1.488027e+06</td>\n",
              "      <td>1.000000</td>\n",
              "      <td>0.900000</td>\n",
              "      <td>0.900000</td>\n",
              "      <td>0.900000</td>\n",
              "      <td>5.000000</td>\n",
              "      <td>6.000000</td>\n",
              "      <td>10.000000</td>\n",
              "      <td>9.000000</td>\n",
              "      <td>12.000000</td>\n",
              "      <td>7.000000</td>\n",
              "      <td>25.000000</td>\n",
              "      <td>19.000000</td>\n",
              "      <td>10.000000</td>\n",
              "      <td>13.000000</td>\n",
              "      <td>23.000000</td>\n",
              "    </tr>\n",
              "  </tbody>\n",
              "</table>\n",
              "</div>"
            ],
            "text/plain": [
              "                 id         target  ...     ps_calc_13     ps_calc_14\n",
              "count  5.952120e+05  595212.000000  ...  595212.000000  595212.000000\n",
              "mean   7.438036e+05       0.036448  ...       2.872288       7.539026\n",
              "std    4.293678e+05       0.187401  ...       1.694887       2.746652\n",
              "min    7.000000e+00       0.000000  ...       0.000000       0.000000\n",
              "25%    3.719915e+05       0.000000  ...       2.000000       6.000000\n",
              "50%    7.435475e+05       0.000000  ...       3.000000       7.000000\n",
              "75%    1.115549e+06       0.000000  ...       4.000000       9.000000\n",
              "max    1.488027e+06       1.000000  ...      13.000000      23.000000\n",
              "\n",
              "[8 rows x 16 columns]"
            ]
          },
          "metadata": {},
          "execution_count": 40
        }
      ]
    },
    {
      "cell_type": "code",
      "metadata": {
        "colab": {
          "base_uri": "https://localhost:8080/",
          "height": 609
        },
        "id": "o8H5LRKLtbMj",
        "outputId": "ebbd1397-8db1-486a-df0e-1ce757849be9"
      },
      "source": [
        "df_ps_cal.drop('id', axis=1).plot.box()"
      ],
      "execution_count": null,
      "outputs": [
        {
          "output_type": "execute_result",
          "data": {
            "text/plain": [
              "<matplotlib.axes._subplots.AxesSubplot at 0x7fc77ddcb590>"
            ]
          },
          "metadata": {},
          "execution_count": 41
        },
        {
          "output_type": "display_data",
          "data": {
            "image/png": "[encoded data removed]",
            "text/plain": [
              "<Figure size 360x720 with 1 Axes>"
            ]
          },
          "metadata": {
            "needs_background": "light"
          }
        }
      ]
    },
    {
      "cell_type": "code",
      "metadata": {
        "id": "H0dcXasE9cQq",
        "colab": {
          "base_uri": "https://localhost:8080/",
          "height": 581
        },
        "outputId": "8db1e2e6-91ff-4b9e-c12d-5f52eee4976f"
      },
      "source": [
        "# Analisa o gráfico anteriores, vamos identificar os outliers pertencentes a coluna \"ps_car_11\"\n",
        "\n",
        "qtd_outliers = df_ps_cal['ps_calc_05'].value_counts()\n",
        "\n",
        "print('Quantidade de registros por dimensão na coluna PS_CALC_05')\n",
        "print(qtd_outliers)\n",
        "\n",
        "print(\"***************************************************************\")\n",
        "\n",
        "\n",
        "\n",
        "plt.figure(figsize=(10,5))\n",
        "sns.countplot(df_ps_cal['ps_calc_05'], palette=\"Set2\")"
      ],
      "execution_count": null,
      "outputs": [
        {
          "output_type": "stream",
          "name": "stdout",
          "text": [
            "Quantidade de registros por dimensão na coluna PS_CALC_05\n",
            "2    195160\n",
            "1    170860\n",
            "3    119192\n",
            "0     61226\n",
            "4     40682\n",
            "5      7534\n",
            "6       558\n",
            "Name: ps_calc_05, dtype: int64\n",
            "***************************************************************\n"
          ]
        },
        {
          "output_type": "stream",
          "name": "stderr",
          "text": [
            "/usr/local/lib/python3.7/dist-packages/seaborn/_decorators.py:43: FutureWarning: Pass the following variable as a keyword arg: x. From version 0.12, the only valid positional argument will be `data`, and passing other arguments without an explicit keyword will result in an error or misinterpretation.\n",
            "  FutureWarning\n"
          ]
        },
        {
          "output_type": "execute_result",
          "data": {
            "text/plain": [
              "<matplotlib.axes._subplots.AxesSubplot at 0x7fc77c021b50>"
            ]
          },
          "metadata": {},
          "execution_count": 42
        },
        {
          "output_type": "display_data",
          "data": {
            "image/png": "[encoded data removed]",
            "text/plain": [
              "<Figure size 720x360 with 1 Axes>"
            ]
          },
          "metadata": {
            "needs_background": "light"
          }
        }
      ]
    },
    {
      "cell_type": "code",
      "metadata": {
        "colab": {
          "base_uri": "https://localhost:8080/",
          "height": 1000
        },
        "id": "Zh-QKGkyUs6K",
        "outputId": "88c078bc-890a-4160-d01f-5df7253d6983"
      },
      "source": [
        "# Grupo 7: Index('id', 'ps_calc_01','ps_calc_02', 'ps_calc_03', 'ps_calc_04', 'ps_calc_05', 'ps_calc_06','ps_calc_07','ps_calc_08', 'ps_calc_09', 'ps_calc_10', 'ps_calc_11','ps_calc_12', 'ps_calc_13', 'ps_calc_14')\n",
        "\n",
        " \n",
        "\n",
        "fig,ax = plt.subplots(3,4,figsize=(20,14),sharex='all')\n",
        "ax1,ax2,ax3,ax4,ax5,ax6,ax7,ax8,ax9,ax10,ax11,ax12 = ax.flatten()\n",
        "sns.countplot(df_ps_cal['target'],palette='rainbow',ax=ax1)\n",
        "sns.countplot(df_ps_cal['ps_calc_01'],palette='summer',ax=ax2)\n",
        "sns.countplot(df_ps_cal['ps_calc_02'],palette='gist_rainbow',ax=ax3)\n",
        "sns.countplot(df_ps_cal['ps_calc_03'],palette='summer',ax=ax4)\n",
        "sns.countplot(df_ps_cal['ps_calc_04'],palette='rainbow',ax=ax5)\n",
        "sns.countplot(df_ps_cal['ps_calc_05'],palette='gist_rainbow',ax=ax6)\n",
        "sns.countplot(df_ps_cal['ps_calc_06'],palette='coolwarm',ax=ax7)\n",
        "sns.countplot(df_ps_cal['ps_calc_07'],palette='gist_rainbow',ax=ax8)\n",
        "sns.countplot(df_ps_cal['ps_calc_08'],palette='rainbow',ax=ax9)\n",
        "sns.countplot(df_ps_cal['ps_calc_09'],palette='coolwarm',ax=ax10)\n",
        "sns.countplot(df_ps_cal['ps_calc_10'],palette='gist_rainbow',ax=ax11)\n",
        "sns.countplot(df_ps_cal['ps_calc_11'],palette='rainbow',ax=ax12)"
      ],
      "execution_count": null,
      "outputs": [
        {
          "output_type": "stream",
          "name": "stderr",
          "text": [
            "/usr/local/lib/python3.7/dist-packages/seaborn/_decorators.py:43: FutureWarning: Pass the following variable as a keyword arg: x. From version 0.12, the only valid positional argument will be `data`, and passing other arguments without an explicit keyword will result in an error or misinterpretation.\n",
            "  FutureWarning\n",
            "/usr/local/lib/python3.7/dist-packages/seaborn/_decorators.py:43: FutureWarning: Pass the following variable as a keyword arg: x. From version 0.12, the only valid positional argument will be `data`, and passing other arguments without an explicit keyword will result in an error or misinterpretation.\n",
            "  FutureWarning\n",
            "/usr/local/lib/python3.7/dist-packages/seaborn/_decorators.py:43: FutureWarning: Pass the following variable as a keyword arg: x. From version 0.12, the only valid positional argument will be `data`, and passing other arguments without an explicit keyword will result in an error or misinterpretation.\n",
            "  FutureWarning\n",
            "/usr/local/lib/python3.7/dist-packages/seaborn/_decorators.py:43: FutureWarning: Pass the following variable as a keyword arg: x. From version 0.12, the only valid positional argument will be `data`, and passing other arguments without an explicit keyword will result in an error or misinterpretation.\n",
            "  FutureWarning\n",
            "/usr/local/lib/python3.7/dist-packages/seaborn/_decorators.py:43: FutureWarning: Pass the following variable as a keyword arg: x. From version 0.12, the only valid positional argument will be `data`, and passing other arguments without an explicit keyword will result in an error or misinterpretation.\n",
            "  FutureWarning\n",
            "/usr/local/lib/python3.7/dist-packages/seaborn/_decorators.py:43: FutureWarning: Pass the following variable as a keyword arg: x. From version 0.12, the only valid positional argument will be `data`, and passing other arguments without an explicit keyword will result in an error or misinterpretation.\n",
            "  FutureWarning\n",
            "/usr/local/lib/python3.7/dist-packages/seaborn/_decorators.py:43: FutureWarning: Pass the following variable as a keyword arg: x. From version 0.12, the only valid positional argument will be `data`, and passing other arguments without an explicit keyword will result in an error or misinterpretation.\n",
            "  FutureWarning\n",
            "/usr/local/lib/python3.7/dist-packages/seaborn/_decorators.py:43: FutureWarning: Pass the following variable as a keyword arg: x. From version 0.12, the only valid positional argument will be `data`, and passing other arguments without an explicit keyword will result in an error or misinterpretation.\n",
            "  FutureWarning\n",
            "/usr/local/lib/python3.7/dist-packages/seaborn/_decorators.py:43: FutureWarning: Pass the following variable as a keyword arg: x. From version 0.12, the only valid positional argument will be `data`, and passing other arguments without an explicit keyword will result in an error or misinterpretation.\n",
            "  FutureWarning\n",
            "/usr/local/lib/python3.7/dist-packages/seaborn/_decorators.py:43: FutureWarning: Pass the following variable as a keyword arg: x. From version 0.12, the only valid positional argument will be `data`, and passing other arguments without an explicit keyword will result in an error or misinterpretation.\n",
            "  FutureWarning\n",
            "/usr/local/lib/python3.7/dist-packages/seaborn/_decorators.py:43: FutureWarning: Pass the following variable as a keyword arg: x. From version 0.12, the only valid positional argument will be `data`, and passing other arguments without an explicit keyword will result in an error or misinterpretation.\n",
            "  FutureWarning\n",
            "/usr/local/lib/python3.7/dist-packages/seaborn/_decorators.py:43: FutureWarning: Pass the following variable as a keyword arg: x. From version 0.12, the only valid positional argument will be `data`, and passing other arguments without an explicit keyword will result in an error or misinterpretation.\n",
            "  FutureWarning\n"
          ]
        },
        {
          "output_type": "execute_result",
          "data": {
            "text/plain": [
              "<matplotlib.axes._subplots.AxesSubplot at 0x7fc77bd1c810>"
            ]
          },
          "metadata": {},
          "execution_count": 43
        },
        {
          "output_type": "display_data",
          "data": {
            "image/png": "[encoded data removed]",
            "text/plain": [
              "<Figure size 1440x1008 with 12 Axes>"
            ]
          },
          "metadata": {
            "needs_background": "light"
          }
        }
      ]
    },
    {
      "cell_type": "markdown",
      "metadata": {
        "id": "hz9q_QY77zTF"
      },
      "source": [
        "#ANALISE DO RESULTADO - GRUPO 7:"
      ]
    },
    {
      "cell_type": "markdown",
      "source": [
        "O grupo \"ps_calc_xx\" apresenta componentes com muitos outliers e valores com escalas diferentes. O grupo não possui dados ausentes (-1). Os atributos \"ps_calc_01\", \"ps_calc_02\" e \"ps_calc_03\" possuem basicamente as mesmas informações (min, max, std, quartis/percentis). Tambem chama a atenção os atributos \"ps_calc_10\" e o \"ps_calc_14\" pela semelhança."
      ],
      "metadata": {
        "id": "EuhMZ6a7ADV-"
      }
    },
    {
      "cell_type": "markdown",
      "metadata": {
        "id": "nN3eUdkF7eWS"
      },
      "source": [
        "##**GRUPO 8**"
      ]
    },
    {
      "cell_type": "code",
      "metadata": {
        "id": "cFYX00zE6xbB",
        "colab": {
          "base_uri": "https://localhost:8080/",
          "height": 300
        },
        "outputId": "2f96fd7b-ec4d-4d80-9d95-021067070ed7"
      },
      "source": [
        "df_ps_cal_bin = df_train\n",
        "\n",
        "lista =  lista_ps_ind + lista_ps_ind_cat + lista_ps_ind_bin + lista_ps_reg + lista_ps_car + lista_ps_car_cat + lista_ps_cal\n",
        "df_ps_cal_bin = df_ps_cal_bin.drop(lista, axis=1)\n",
        "\n",
        "df_ps_cal_bin.describe()"
      ],
      "execution_count": null,
      "outputs": [
        {
          "output_type": "execute_result",
          "data": {
            "text/html": [
              "<div>\n",
              "<style scoped>\n",
              "    .dataframe tbody tr th:only-of-type {\n",
              "        vertical-align: middle;\n",
              "    }\n",
              "\n",
              "    .dataframe tbody tr th {\n",
              "        vertical-align: top;\n",
              "    }\n",
              "\n",
              "    .dataframe thead th {\n",
              "        text-align: right;\n",
              "    }\n",
              "</style>\n",
              "<table border=\"1\" class=\"dataframe\">\n",
              "  <thead>\n",
              "    <tr style=\"text-align: right;\">\n",
              "      <th></th>\n",
              "      <th>id</th>\n",
              "      <th>target</th>\n",
              "      <th>ps_calc_15_bin</th>\n",
              "      <th>ps_calc_16_bin</th>\n",
              "      <th>ps_calc_17_bin</th>\n",
              "      <th>ps_calc_18_bin</th>\n",
              "      <th>ps_calc_19_bin</th>\n",
              "      <th>ps_calc_20_bin</th>\n",
              "    </tr>\n",
              "  </thead>\n",
              "  <tbody>\n",
              "    <tr>\n",
              "      <th>count</th>\n",
              "      <td>5.952120e+05</td>\n",
              "      <td>595212.000000</td>\n",
              "      <td>595212.000000</td>\n",
              "      <td>595212.000000</td>\n",
              "      <td>595212.000000</td>\n",
              "      <td>595212.000000</td>\n",
              "      <td>595212.000000</td>\n",
              "      <td>595212.000000</td>\n",
              "    </tr>\n",
              "    <tr>\n",
              "      <th>mean</th>\n",
              "      <td>7.438036e+05</td>\n",
              "      <td>0.036448</td>\n",
              "      <td>0.122427</td>\n",
              "      <td>0.627840</td>\n",
              "      <td>0.554182</td>\n",
              "      <td>0.287182</td>\n",
              "      <td>0.349024</td>\n",
              "      <td>0.153318</td>\n",
              "    </tr>\n",
              "    <tr>\n",
              "      <th>std</th>\n",
              "      <td>4.293678e+05</td>\n",
              "      <td>0.187401</td>\n",
              "      <td>0.327779</td>\n",
              "      <td>0.483381</td>\n",
              "      <td>0.497056</td>\n",
              "      <td>0.452447</td>\n",
              "      <td>0.476662</td>\n",
              "      <td>0.360295</td>\n",
              "    </tr>\n",
              "    <tr>\n",
              "      <th>min</th>\n",
              "      <td>7.000000e+00</td>\n",
              "      <td>0.000000</td>\n",
              "      <td>0.000000</td>\n",
              "      <td>0.000000</td>\n",
              "      <td>0.000000</td>\n",
              "      <td>0.000000</td>\n",
              "      <td>0.000000</td>\n",
              "      <td>0.000000</td>\n",
              "    </tr>\n",
              "    <tr>\n",
              "      <th>25%</th>\n",
              "      <td>3.719915e+05</td>\n",
              "      <td>0.000000</td>\n",
              "      <td>0.000000</td>\n",
              "      <td>0.000000</td>\n",
              "      <td>0.000000</td>\n",
              "      <td>0.000000</td>\n",
              "      <td>0.000000</td>\n",
              "      <td>0.000000</td>\n",
              "    </tr>\n",
              "    <tr>\n",
              "      <th>50%</th>\n",
              "      <td>7.435475e+05</td>\n",
              "      <td>0.000000</td>\n",
              "      <td>0.000000</td>\n",
              "      <td>1.000000</td>\n",
              "      <td>1.000000</td>\n",
              "      <td>0.000000</td>\n",
              "      <td>0.000000</td>\n",
              "      <td>0.000000</td>\n",
              "    </tr>\n",
              "    <tr>\n",
              "      <th>75%</th>\n",
              "      <td>1.115549e+06</td>\n",
              "      <td>0.000000</td>\n",
              "      <td>0.000000</td>\n",
              "      <td>1.000000</td>\n",
              "      <td>1.000000</td>\n",
              "      <td>1.000000</td>\n",
              "      <td>1.000000</td>\n",
              "      <td>0.000000</td>\n",
              "    </tr>\n",
              "    <tr>\n",
              "      <th>max</th>\n",
              "      <td>1.488027e+06</td>\n",
              "      <td>1.000000</td>\n",
              "      <td>1.000000</td>\n",
              "      <td>1.000000</td>\n",
              "      <td>1.000000</td>\n",
              "      <td>1.000000</td>\n",
              "      <td>1.000000</td>\n",
              "      <td>1.000000</td>\n",
              "    </tr>\n",
              "  </tbody>\n",
              "</table>\n",
              "</div>"
            ],
            "text/plain": [
              "                 id         target  ...  ps_calc_19_bin  ps_calc_20_bin\n",
              "count  5.952120e+05  595212.000000  ...   595212.000000   595212.000000\n",
              "mean   7.438036e+05       0.036448  ...        0.349024        0.153318\n",
              "std    4.293678e+05       0.187401  ...        0.476662        0.360295\n",
              "min    7.000000e+00       0.000000  ...        0.000000        0.000000\n",
              "25%    3.719915e+05       0.000000  ...        0.000000        0.000000\n",
              "50%    7.435475e+05       0.000000  ...        0.000000        0.000000\n",
              "75%    1.115549e+06       0.000000  ...        1.000000        0.000000\n",
              "max    1.488027e+06       1.000000  ...        1.000000        1.000000\n",
              "\n",
              "[8 rows x 8 columns]"
            ]
          },
          "metadata": {},
          "execution_count": 44
        }
      ]
    },
    {
      "cell_type": "code",
      "metadata": {
        "colab": {
          "base_uri": "https://localhost:8080/",
          "height": 609
        },
        "id": "McLkNdD0tg64",
        "outputId": "2d18165a-9aef-4496-b086-9b86c7e9e9fe"
      },
      "source": [
        "df_ps_cal_bin.drop('id', axis=1).plot.box()"
      ],
      "execution_count": null,
      "outputs": [
        {
          "output_type": "execute_result",
          "data": {
            "text/plain": [
              "<matplotlib.axes._subplots.AxesSubplot at 0x7fc77badae50>"
            ]
          },
          "metadata": {},
          "execution_count": 45
        },
        {
          "output_type": "display_data",
          "data": {
            "image/png": "[encoded data removed]",
            "text/plain": [
              "<Figure size 360x720 with 1 Axes>"
            ]
          },
          "metadata": {
            "needs_background": "light"
          }
        }
      ]
    },
    {
      "cell_type": "code",
      "metadata": {
        "id": "x4vbh7ED99tV",
        "colab": {
          "base_uri": "https://localhost:8080/",
          "height": 494
        },
        "outputId": "25882c38-89e8-410c-95e0-96d87abbe06c"
      },
      "source": [
        "# Analisa o gráfico anteriores, vamos identificar os outliers pertencentes a coluna \"ps_calc_20_bin\"\n",
        "\n",
        "qtd_outliers = df_ps_cal_bin['ps_calc_20_bin'].value_counts()\n",
        "\n",
        "print('Quantidade de registros por dimensão na coluna PS_CALC_20_BIN')\n",
        "print(qtd_outliers)\n",
        "\n",
        "print(\"***************************************************************\")\n",
        "\n",
        "\n",
        "\n",
        "plt.figure(figsize=(10,5))\n",
        "sns.countplot(df_ps_cal_bin['ps_calc_20_bin'], palette=\"Set2\")"
      ],
      "execution_count": null,
      "outputs": [
        {
          "output_type": "stream",
          "name": "stdout",
          "text": [
            "Quantidade de registros por dimensão na coluna PS_CALC_20_BIN\n",
            "0    503955\n",
            "1     91257\n",
            "Name: ps_calc_20_bin, dtype: int64\n",
            "***************************************************************\n"
          ]
        },
        {
          "output_type": "stream",
          "name": "stderr",
          "text": [
            "/usr/local/lib/python3.7/dist-packages/seaborn/_decorators.py:43: FutureWarning: Pass the following variable as a keyword arg: x. From version 0.12, the only valid positional argument will be `data`, and passing other arguments without an explicit keyword will result in an error or misinterpretation.\n",
            "  FutureWarning\n"
          ]
        },
        {
          "output_type": "execute_result",
          "data": {
            "text/plain": [
              "<matplotlib.axes._subplots.AxesSubplot at 0x7fc77bfa4d90>"
            ]
          },
          "metadata": {},
          "execution_count": 46
        },
        {
          "output_type": "display_data",
          "data": {
            "image/png": "[encoded data removed]",
            "text/plain": [
              "<Figure size 720x360 with 1 Axes>"
            ]
          },
          "metadata": {
            "needs_background": "light"
          }
        }
      ]
    },
    {
      "cell_type": "code",
      "metadata": {
        "id": "LMrFBHOeK68m",
        "colab": {
          "base_uri": "https://localhost:8080/",
          "height": 549
        },
        "outputId": "d4c3d16c-ab0d-4f4c-b1dd-d5e2583aed13"
      },
      "source": [
        "# Grupo 8: Index(['id', 'target', 'ps_calc_15_bin', 'ps_calc_16_bin', 'ps_calc_17_bin', 'ps_calc_18_bin','ps_calc_19_bin','ps_calc_20_bin')\n",
        "\n",
        "fig,ax = plt.subplots(2,2,figsize=(15,5),sharex='all')\n",
        "ax1,ax2,ax3,ax4 = ax.flatten()\n",
        "sns.countplot(df_ps_cal_bin['target'],palette='summer',ax=ax1)\n",
        "sns.countplot(df_ps_cal_bin['ps_calc_15_bin'],palette='rainbow',ax=ax2)\n",
        "sns.countplot(df_ps_cal_bin['ps_calc_16_bin'],palette='summer',ax=ax3)\n",
        "sns.countplot(df_ps_cal_bin['ps_calc_17_bin'],palette='gist_rainbow',ax=ax4)\n",
        "sns.countplot(df_ps_cal_bin['ps_calc_18_bin'],palette='gist_rainbow',ax=ax4)"
      ],
      "execution_count": null,
      "outputs": [
        {
          "output_type": "stream",
          "name": "stderr",
          "text": [
            "/usr/local/lib/python3.7/dist-packages/seaborn/_decorators.py:43: FutureWarning: Pass the following variable as a keyword arg: x. From version 0.12, the only valid positional argument will be `data`, and passing other arguments without an explicit keyword will result in an error or misinterpretation.\n",
            "  FutureWarning\n",
            "/usr/local/lib/python3.7/dist-packages/seaborn/_decorators.py:43: FutureWarning: Pass the following variable as a keyword arg: x. From version 0.12, the only valid positional argument will be `data`, and passing other arguments without an explicit keyword will result in an error or misinterpretation.\n",
            "  FutureWarning\n",
            "/usr/local/lib/python3.7/dist-packages/seaborn/_decorators.py:43: FutureWarning: Pass the following variable as a keyword arg: x. From version 0.12, the only valid positional argument will be `data`, and passing other arguments without an explicit keyword will result in an error or misinterpretation.\n",
            "  FutureWarning\n",
            "/usr/local/lib/python3.7/dist-packages/seaborn/_decorators.py:43: FutureWarning: Pass the following variable as a keyword arg: x. From version 0.12, the only valid positional argument will be `data`, and passing other arguments without an explicit keyword will result in an error or misinterpretation.\n",
            "  FutureWarning\n",
            "/usr/local/lib/python3.7/dist-packages/seaborn/_decorators.py:43: FutureWarning: Pass the following variable as a keyword arg: x. From version 0.12, the only valid positional argument will be `data`, and passing other arguments without an explicit keyword will result in an error or misinterpretation.\n",
            "  FutureWarning\n"
          ]
        },
        {
          "output_type": "execute_result",
          "data": {
            "text/plain": [
              "<matplotlib.axes._subplots.AxesSubplot at 0x7fc77a5330d0>"
            ]
          },
          "metadata": {},
          "execution_count": 47
        },
        {
          "output_type": "display_data",
          "data": {
            "image/png": "[encoded data removed]",
            "text/plain": [
              "<Figure size 1080x360 with 4 Axes>"
            ]
          },
          "metadata": {
            "needs_background": "light"
          }
        }
      ]
    },
    {
      "cell_type": "markdown",
      "metadata": {
        "id": "a_atIlmL724V"
      },
      "source": [
        "#ANALISE DO RESULTADO - GRUPO 8:"
      ]
    },
    {
      "cell_type": "markdown",
      "metadata": {
        "id": "vTjtExdfcBGo"
      },
      "source": [
        "Colunas possuem os mesmos valores da TARGET, porém as colunas \"ps_calc_15_bin\" e \"ps_calc_20_bin\" mais se assemelham. Nas colunas \"ps_calc_16_bin\" e \"ps_calc_17_bin\" pode-se ver um percentual inverso ao TARGET, com os valores \"1\" com maior destaque. Não existem valores ausentes e nem outliers para esse grupo.\n",
        "\n"
      ]
    }
  ]
}